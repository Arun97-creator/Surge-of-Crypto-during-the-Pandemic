{
 "cells": [
  {
   "cell_type": "code",
   "execution_count": 1,
   "id": "d6c8fe26",
   "metadata": {},
   "outputs": [
    {
     "name": "stdout",
     "output_type": "stream",
     "text": [
      "package 'quantmod' successfully unpacked and MD5 sums checked\n",
      "\n",
      "The downloaded binary packages are in\n",
      "\tC:\\Users\\HP\\AppData\\Local\\Temp\\RtmpMha4dl\\downloaded_packages\n"
     ]
    },
    {
     "name": "stderr",
     "output_type": "stream",
     "text": [
      "Warning message:\n",
      "\"package 'quantmod' was built under R version 3.6.3\"Loading required package: xts\n",
      "Loading required package: zoo\n",
      "\n",
      "Attaching package: 'zoo'\n",
      "\n",
      "The following objects are masked from 'package:base':\n",
      "\n",
      "    as.Date, as.Date.numeric\n",
      "\n",
      "Registered S3 method overwritten by 'xts':\n",
      "  method     from\n",
      "  as.zoo.xts zoo \n",
      "Loading required package: TTR\n",
      "Registered S3 method overwritten by 'quantmod':\n",
      "  method            from\n",
      "  as.zoo.data.frame zoo \n"
     ]
    }
   ],
   "source": [
    "install.packages('quantmod')\n",
    "library(quantmod)"
   ]
  },
  {
   "cell_type": "code",
   "execution_count": 143,
   "id": "4e4693e3",
   "metadata": {},
   "outputs": [
    {
     "data": {
      "text/plain": [
       "           ACWI.Open ACWI.High ACWI.Low ACWI.Close ACWI.Volume ACWI.Adjusted\n",
       "2008-03-28     50.10     50.10    50.10      50.10         200      38.93677\n",
       "2008-03-31     50.00     50.00    49.32      49.32         400      38.33056\n",
       "2008-04-01     50.25     50.65    50.16      50.65         600      39.36421\n",
       "2008-04-02     51.12     51.40    51.05      51.21       10700      39.79943\n",
       "2008-04-03     59.70     59.70    50.95      51.50       29100      40.02483\n",
       "2008-04-04     54.95     54.95    51.47      51.47        9900      40.00151"
      ]
     },
     "metadata": {},
     "output_type": "display_data"
    }
   ],
   "source": [
    "BTC3 <- getSymbols(\"ACWI\",src=\"yahoo\",auto.assign=FALSE)\n",
    "BTC3 <- na.omit(BTC3)\n",
    "BTC3 <- BTC3[\"2008-04-31/2020-03-25\"]\n",
    "head(BTC3)"
   ]
  },
  {
   "cell_type": "code",
   "execution_count": 144,
   "id": "497b4f8e",
   "metadata": {},
   "outputs": [],
   "source": [
    "#BTC1 <- getSymbols(\"XWD.TO\",src=\"FRED\",auto.assign=FALSE)\n",
    "#BTC1 <- na.omit(BTC1)\n",
    "#BTC1 <- BTC1[\"2019-12-31/2021-03-08\"]\n",
    "#names(BTC1) <- \"TR\" # Naming our column Close Price as \"TR\"\n",
    "#head(BTC1)"
   ]
  },
  {
   "cell_type": "code",
   "execution_count": 145,
   "id": "fd328421",
   "metadata": {},
   "outputs": [
    {
     "data": {
      "text/plain": [
       "           ACWI.Open ACWI.Adjusted\n",
       "2008-03-28     50.10      38.93677\n",
       "2008-03-31     50.00      38.33056\n",
       "2008-04-01     50.25      39.36421\n",
       "2008-04-02     51.12      39.79943\n",
       "2008-04-03     59.70      40.02483\n",
       "2008-04-04     54.95      40.00151"
      ]
     },
     "metadata": {},
     "output_type": "display_data"
    }
   ],
   "source": [
    "BTC3 <- BTC3[ ,-c(2,3,4,5)]\n",
    "head(BTC3)"
   ]
  },
  {
   "cell_type": "code",
   "execution_count": 146,
   "id": "6ab1bdb2",
   "metadata": {},
   "outputs": [
    {
     "data": {
      "text/plain": [
       "           ACWI.Open ACWI.Adjusted\n",
       "2008-03-28     50.10      38.93677\n",
       "2008-03-31     50.00      38.33056\n",
       "2008-04-01     50.25      39.36421\n",
       "2008-04-02     51.12      39.79943\n",
       "2008-04-03     59.70      40.02483\n",
       "2008-04-04     54.95      40.00151"
      ]
     },
     "metadata": {},
     "output_type": "display_data"
    }
   ],
   "source": [
    "head(BTC3)"
   ]
  },
  {
   "cell_type": "code",
   "execution_count": 147,
   "id": "b2b75394",
   "metadata": {},
   "outputs": [
    {
     "data": {
      "text/plain": [
       "           ACWI.Adjusted\n",
       "2008-03-28      38.93677\n",
       "2008-03-31      38.33056\n",
       "2008-04-01      39.36421\n",
       "2008-04-02      39.79943\n",
       "2008-04-03      40.02483\n",
       "2008-04-04      40.00151"
      ]
     },
     "metadata": {},
     "output_type": "display_data"
    }
   ],
   "source": [
    "BTC3 <- BTC3[ ,-c(1)]\n",
    "head(BTC3)"
   ]
  },
  {
   "cell_type": "code",
   "execution_count": 148,
   "id": "f2e6db50",
   "metadata": {},
   "outputs": [],
   "source": [
    "colnames(BTC3)[colnames(BTC3) == \"ACWI.Adjusted\"] <- \"TR\""
   ]
  },
  {
   "cell_type": "code",
   "execution_count": 149,
   "id": "0809e50c",
   "metadata": {},
   "outputs": [
    {
     "data": {
      "text/plain": [
       "                 TR\n",
       "2008-03-28 38.93677\n",
       "2008-03-31 38.33056\n",
       "2008-04-01 39.36421\n",
       "2008-04-02 39.79943\n",
       "2008-04-03 40.02483\n",
       "2008-04-04 40.00151"
      ]
     },
     "metadata": {},
     "output_type": "display_data"
    }
   ],
   "source": [
    "head(BTC3)"
   ]
  },
  {
   "cell_type": "code",
   "execution_count": 150,
   "id": "d0f5e105",
   "metadata": {},
   "outputs": [
    {
     "data": {
      "text/plain": [
       "                    TR\n",
       "2008-03-28          NA\n",
       "2008-03-31 -0.01569153\n",
       "2008-04-01  0.02660962"
      ]
     },
     "metadata": {},
     "output_type": "display_data"
    }
   ],
   "source": [
    "logret <- diff(log(BTC3$TR))  # diff function gives us the return\n",
    "head(logret,3)"
   ]
  },
  {
   "cell_type": "code",
   "execution_count": 151,
   "id": "257b9eef",
   "metadata": {},
   "outputs": [
    {
     "data": {
      "image/png": "[encoded data removed]",
      "text/plain": [
       "plot without title"
      ]
     },
     "metadata": {},
     "output_type": "display_data"
    }
   ],
   "source": [
    "plot(BTC3)"
   ]
  },
  {
   "cell_type": "code",
   "execution_count": 152,
   "id": "3efd0d1b",
   "metadata": {},
   "outputs": [
    {
     "data": {
      "image/png": "[encoded data removed]",
      "text/plain": [
       "plot without title"
      ]
     },
     "metadata": {},
     "output_type": "display_data"
    }
   ],
   "source": [
    "plot(logret)"
   ]
  },
  {
   "cell_type": "code",
   "execution_count": 153,
   "id": "06a87a2f",
   "metadata": {},
   "outputs": [
    {
     "data": {
      "text/plain": [
       "                  TR\n",
       "2008-03-31 -0.015692\n",
       "2008-04-01  0.026610\n",
       "2008-04-02  0.010996"
      ]
     },
     "metadata": {},
     "output_type": "display_data"
    }
   ],
   "source": [
    "# The R code to find log-return, removing missing First Observation\n",
    "\n",
    "logret <- diff(log(BTC3$TR))[-1]\n",
    "round(head(logret,3),6)   # round function to display 6 decimals\n",
    "\n",
    "# First Value interpretation \n",
    "# Stock-index fell by 1.5%"
   ]
  },
  {
   "cell_type": "code",
   "execution_count": 154,
   "id": "79a2be2b",
   "metadata": {},
   "outputs": [
    {
     "data": {
      "text/plain": [
       "                  TR\n",
       "2008-03-31 -0.015569\n",
       "2008-04-01  0.026967\n",
       "2008-04-02  0.011056"
      ]
     },
     "metadata": {},
     "output_type": "display_data"
    }
   ],
   "source": [
    "# Now Calculate the discreet Return from the formula of exp.\n",
    "ret <- exp(logret)-1  #To go from log return to simple return,\n",
    "round(head(ret,3),6)"
   ]
  },
  {
   "cell_type": "code",
   "execution_count": 155,
   "id": "9259fa8f",
   "metadata": {},
   "outputs": [
    {
     "data": {
      "image/png": "[encoded data removed]",
      "text/plain": [
       "plot without title"
      ]
     },
     "metadata": {},
     "output_type": "display_data"
    }
   ],
   "source": [
    "plot(ret)"
   ]
  },
  {
   "cell_type": "code",
   "execution_count": 156,
   "id": "3e889517",
   "metadata": {},
   "outputs": [
    {
     "data": {
      "text/plain": [
       "                  TR\n",
       "2008-03-28  38.93677\n",
       "2008-04-04 197.52054\n",
       "2008-04-11 199.27693"
      ]
     },
     "metadata": {},
     "output_type": "display_data"
    }
   ],
   "source": [
    "# Weekly log-return\n",
    "\n",
    "logret_w <- apply.weekly(BTC3,sum)\n",
    "\n",
    "round(head(logret_w,3),6)"
   ]
  },
  {
   "cell_type": "code",
   "execution_count": 157,
   "id": "a4fdf96e",
   "metadata": {},
   "outputs": [
    {
     "data": {
      "image/png": "[encoded data removed]",
      "text/plain": [
       "plot without title"
      ]
     },
     "metadata": {},
     "output_type": "display_data"
    }
   ],
   "source": [
    "plot(logret_w)"
   ]
  },
  {
   "cell_type": "code",
   "execution_count": 158,
   "id": "398da5e0",
   "metadata": {},
   "outputs": [
    {
     "data": {
      "text/plain": [
       "                      TR\n",
       "2020-03-13 3.927602e+139\n",
       "2020-03-20 2.500715e+122\n",
       "2020-03-25  1.310549e+74"
      ]
     },
     "metadata": {},
     "output_type": "display_data"
    }
   ],
   "source": [
    "# Calculate discrete return from log-return\n",
    "\n",
    "ret_w <- exp(logret_w)-1\n",
    "\n",
    "round(tail(ret_w,3),6)"
   ]
  },
  {
   "cell_type": "code",
   "execution_count": 159,
   "id": "288b15f8",
   "metadata": {},
   "outputs": [],
   "source": [
    "#if the returns distribition are normal it is easy to find out VAR & ES"
   ]
  },
  {
   "cell_type": "code",
   "execution_count": 160,
   "id": "29b13fcc",
   "metadata": {},
   "outputs": [
    {
     "data": {
      "text/plain": [
       "                  TR\n",
       "2008-03-31  77.26733\n",
       "2008-04-30 886.16494\n",
       "2008-05-30 875.88281"
      ]
     },
     "metadata": {},
     "output_type": "display_data"
    }
   ],
   "source": [
    "#monthly\n",
    "logret_w1 <- apply.monthly(BTC3,sum)\n",
    "\n",
    "round(head(logret_w1,3),6)"
   ]
  },
  {
   "cell_type": "code",
   "execution_count": 161,
   "id": "7bb53d24",
   "metadata": {},
   "outputs": [
    {
     "data": {
      "image/png": "[encoded data removed]",
      "text/plain": [
       "plot without title"
      ]
     },
     "metadata": {},
     "output_type": "display_data"
    }
   ],
   "source": [
    "plot(logret_w1)"
   ]
  },
  {
   "cell_type": "code",
   "execution_count": 162,
   "id": "313aadc3",
   "metadata": {},
   "outputs": [
    {
     "data": {
      "text/html": [
       "0.00013986"
      ],
      "text/latex": [
       "0.00013986"
      ],
      "text/markdown": [
       "0.00013986"
      ],
      "text/plain": [
       "[1] 0.00013986"
      ]
     },
     "metadata": {},
     "output_type": "display_data"
    },
    {
     "data": {
      "text/html": [
       "0.0137044"
      ],
      "text/latex": [
       "0.0137044"
      ],
      "text/markdown": [
       "0.0137044"
      ],
      "text/plain": [
       "[1] 0.0137044"
      ]
     },
     "metadata": {},
     "output_type": "display_data"
    }
   ],
   "source": [
    "# Distribution of log-returns\n",
    "# ESTIMATE U -using sample mean  and sigma using std. deviation\n",
    "\n",
    "mu <- round(mean(logret),8)\n",
    "\n",
    "sig <- round(sd(logret),8)\n",
    "\n",
    "mu\n",
    "sig"
   ]
  },
  {
   "cell_type": "code",
   "execution_count": 163,
   "id": "2f3502f7",
   "metadata": {},
   "outputs": [
    {
     "data": {
      "text/html": [
       "-0.022402"
      ],
      "text/latex": [
       "-0.022402"
      ],
      "text/markdown": [
       "-0.022402"
      ],
      "text/plain": [
       "[1] -0.022402"
      ]
     },
     "metadata": {},
     "output_type": "display_data"
    }
   ],
   "source": [
    "var <- round(qnorm(0.05,mu,sig),6)   # quantile for the normal distribution only  # VAR value is -2.2%\n",
    "var"
   ]
  },
  {
   "cell_type": "code",
   "execution_count": 164,
   "id": "7c7c1a2f",
   "metadata": {},
   "outputs": [
    {
     "data": {
      "image/png": "[encoded data removed]",
      "text/plain": [
       "Plot with title \"Histogram of logret\""
      ]
     },
     "metadata": {},
     "output_type": "display_data"
    }
   ],
   "source": [
    "hist(logret)"
   ]
  },
  {
   "cell_type": "code",
   "execution_count": 165,
   "id": "c35988a6",
   "metadata": {},
   "outputs": [
    {
     "data": {
      "text/html": [
       "-0.0221529384901039"
      ],
      "text/latex": [
       "-0.0221529384901039"
      ],
      "text/markdown": [
       "-0.0221529384901039"
      ],
      "text/plain": [
       "[1] -0.02215294"
      ]
     },
     "metadata": {},
     "output_type": "display_data"
    }
   ],
   "source": [
    "(exp(var)-1) # First convert var into discrete returns"
   ]
  },
  {
   "cell_type": "code",
   "execution_count": 166,
   "id": "561e3436",
   "metadata": {},
   "outputs": [
    {
     "data": {
      "text/html": [
       "-22152.9384901039"
      ],
      "text/latex": [
       "-22152.9384901039"
      ],
      "text/markdown": [
       "-22152.9384901039"
      ],
      "text/plain": [
       "[1] -22152.94"
      ]
     },
     "metadata": {},
     "output_type": "display_data"
    }
   ],
   "source": [
    "(exp(var)-1) * 1000000"
   ]
  },
  {
   "cell_type": "code",
   "execution_count": 167,
   "id": "081cd62f",
   "metadata": {},
   "outputs": [],
   "source": [
    "# ES - If the outcome were to be worse than -2.2% then the ES is the expected loss"
   ]
  },
  {
   "cell_type": "code",
   "execution_count": 168,
   "id": "60c30d98",
   "metadata": {},
   "outputs": [
    {
     "data": {
      "text/html": [
       "-0.0281283813992048"
      ],
      "text/latex": [
       "-0.0281283813992048"
      ],
      "text/markdown": [
       "-0.0281283813992048"
      ],
      "text/plain": [
       "[1] -0.02812838"
      ]
     },
     "metadata": {},
     "output_type": "display_data"
    }
   ],
   "source": [
    "# Calculating 1-day 95% Expected Shortfall for alpha = 0.05 during the case of normal distribution\n",
    "es <- mu-sig*dnorm(qnorm(0.05,0,1),0,1)/0.05\n",
    "es\n",
    "# It means if the log-return is worse than -2.2% then the avg. loss is abt -2.7%"
   ]
  },
  {
   "cell_type": "code",
   "execution_count": 213,
   "id": "4eefd09d",
   "metadata": {},
   "outputs": [
    {
     "data": {
      "text/html": [
       "-0.027736461764849"
      ],
      "text/latex": [
       "-0.027736461764849"
      ],
      "text/markdown": [
       "-0.027736461764849"
      ],
      "text/plain": [
       "[1] -0.02773646"
      ]
     },
     "metadata": {},
     "output_type": "display_data"
    }
   ],
   "source": [
    "# Next wld be predicting AR & ES based on Simulations - Up untill now we consider the Normality Assumptions\n",
    "# Week 3\n",
    "# If funds fall below 2.2% \n",
    "(exp(es)-1) # First convert var into discrete returns"
   ]
  },
  {
   "cell_type": "code",
   "execution_count": 170,
   "id": "ce20b77c",
   "metadata": {},
   "outputs": [
    {
     "name": "stderr",
     "output_type": "stream",
     "text": [
      "Warning message:\n",
      "\"package 'moments' is in use and will not be installed\""
     ]
    }
   ],
   "source": [
    "install.packages('moments')\n",
    "library(moments)\n"
   ]
  },
  {
   "cell_type": "code",
   "execution_count": 171,
   "id": "6192c622",
   "metadata": {},
   "outputs": [
    {
     "name": "stderr",
     "output_type": "stream",
     "text": [
      "Warning message:\n",
      "\"package 'metRology' is in use and will not be installed\""
     ]
    }
   ],
   "source": [
    "install.packages('metRology')\n",
    "library(metRology)"
   ]
  },
  {
   "cell_type": "code",
   "execution_count": 172,
   "id": "87d6806b",
   "metadata": {},
   "outputs": [],
   "source": [
    "library(rugarch)"
   ]
  },
  {
   "cell_type": "code",
   "execution_count": 173,
   "id": "43e10873",
   "metadata": {},
   "outputs": [
    {
     "data": {
      "text/html": [
       "<strong>5%:</strong> -0.022518"
      ],
      "text/latex": [
       "\\textbf{5\\textbackslash{}\\%:} -0.022518"
      ],
      "text/markdown": [
       "**5%:** -0.022518"
      ],
      "text/plain": [
       "       5% \n",
       "-0.022518 "
      ]
     },
     "metadata": {},
     "output_type": "display_data"
    },
    {
     "data": {
      "text/html": [
       "-0.0284"
      ],
      "text/latex": [
       "-0.0284"
      ],
      "text/markdown": [
       "-0.0284"
      ],
      "text/plain": [
       "[1] -0.0284"
      ]
     },
     "metadata": {},
     "output_type": "display_data"
    }
   ],
   "source": [
    "# Draw 100,000 outcomes from the N(mu,sig) distribution\n",
    "alpha <- 0.05\n",
    "set.seed(123789)    #seed value tells the computer where to start the sequence # if i do not set , then each time i get diff.set\n",
    "\n",
    "rvec <- rnorm(100000,mu,sig)# Get a 100000 rando no.s from a random distribution   # So the result wld be different everytime\n",
    "\n",
    "VAR <- quantile(rvec,alpha)\n",
    "\n",
    "ES <- mean(rvec[rvec<VAR])\n",
    "\n",
    "round(VAR,6)\n",
    "\n",
    "round(ES,6)\n",
    "# Simulation method will not give us the exact correct value as it takes an assumption on the mean and std.-deviation"
   ]
  },
  {
   "cell_type": "code",
   "execution_count": 174,
   "id": "c41a875b",
   "metadata": {},
   "outputs": [],
   "source": [
    "#The objective of the class is - How to re-scale the t-distribution with U , STD. dev , Kurtosis , skewness, d.o.f.\n",
    "#To match the original distribution of the data\n",
    "#It provides accurate VAR & Es for our data\n",
    "\n",
    "## Re-scaledt-distribution model\n",
    "# We use M-L method\n",
    "# Use the fit-distribution function"
   ]
  },
  {
   "cell_type": "code",
   "execution_count": 175,
   "id": "a1653d56",
   "metadata": {},
   "outputs": [
    {
     "name": "stderr",
     "output_type": "stream",
     "text": [
      "Warning message in dt((x - m)/s, df, log = TRUE):\n",
      "\"NaNs produced\"Warning message in dt((x - m)/s, df, log = TRUE):\n",
      "\"NaNs produced\"Warning message in dt((x - m)/s, df, log = TRUE):\n",
      "\"NaNs produced\"Warning message in log(s):\n",
      "\"NaNs produced\"Warning message in log(s):\n",
      "\"NaNs produced\"Warning message in log(s):\n",
      "\"NaNs produced\"Warning message in log(s):\n",
      "\"NaNs produced\"Warning message in log(s):\n",
      "\"NaNs produced\"Warning message in dt((x - m)/s, df, log = TRUE):\n",
      "\"NaNs produced\"Warning message in dt((x - m)/s, df, log = TRUE):\n",
      "\"NaNs produced\"Warning message in log(s):\n",
      "\"NaNs produced\"Warning message in log(s):\n",
      "\"NaNs produced\"Warning message in log(s):\n",
      "\"NaNs produced\"Warning message in log(s):\n",
      "\"NaNs produced\"Warning message in log(s):\n",
      "\"NaNs produced\"Warning message in log(s):\n",
      "\"NaNs produced\"Warning message in log(s):\n",
      "\"NaNs produced\"Warning message in log(s):\n",
      "\"NaNs produced\"Warning message in log(s):\n",
      "\"NaNs produced\""
     ]
    },
    {
     "data": {
      "text/html": [
       "<dl class=dl-horizontal>\n",
       "\t<dt>m</dt>\n",
       "\t\t<dd>0.000782</dd>\n",
       "\t<dt>s</dt>\n",
       "\t\t<dd>0.006767</dd>\n",
       "\t<dt>df</dt>\n",
       "\t\t<dd>2.203313</dd>\n",
       "</dl>\n"
      ],
      "text/latex": [
       "\\begin{description*}\n",
       "\\item[m] 0.000782\n",
       "\\item[s] 0.006767\n",
       "\\item[df] 2.203313\n",
       "\\end{description*}\n"
      ],
      "text/markdown": [
       "m\n",
       ":   0.000782s\n",
       ":   0.006767df\n",
       ":   2.203313\n",
       "\n"
      ],
      "text/plain": [
       "       m        s       df \n",
       "0.000782 0.006767 2.203313 "
      ]
     },
     "metadata": {},
     "output_type": "display_data"
    }
   ],
   "source": [
    "library(MASS)\n",
    "rvec <- as.vector(logret) #Using ML method and finding the best parameters\n",
    "t.fit <- fitdistr(rvec,\"t\")\n",
    "round(t.fit$estimate,6)"
   ]
  },
  {
   "cell_type": "code",
   "execution_count": 176,
   "id": "b7954679",
   "metadata": {},
   "outputs": [
    {
     "data": {
      "text/html": [
       "<strong>5%:</strong> -0.017771"
      ],
      "text/latex": [
       "\\textbf{5\\textbackslash{}\\%:} -0.017771"
      ],
      "text/markdown": [
       "**5%:** -0.017771"
      ],
      "text/plain": [
       "       5% \n",
       "-0.017771 "
      ]
     },
     "metadata": {},
     "output_type": "display_data"
    },
    {
     "data": {
      "text/html": [
       "-0.03614"
      ],
      "text/latex": [
       "-0.03614"
      ],
      "text/markdown": [
       "-0.03614"
      ],
      "text/plain": [
       "[1] -0.03614"
      ]
     },
     "metadata": {},
     "output_type": "display_data"
    }
   ],
   "source": [
    "# Estimating VAR and ES for student-t distribution with the above parameters\n",
    "alpha <- 0.05\n",
    "set.seed(123789)\n",
    "#install.packages('metRology')\n",
    "#library(metRology)\n",
    "rvec <- rt.scaled(100000,mean=t.fit$estimate[1],sd=t.fit$estimate[2],df=t.fit$estimate[3])\n",
    "# We use rt.scaled fx to simulate data from the re-scaled t-distribution using the estimated parameters\n",
    "# fIRST argument is- The no. of outcomes we want in our simulation\n",
    "VAR <- quantile(rvec,alpha)\n",
    "ES <- mean(rvec[rvec<VAR])\n",
    "round(VAR,6)\n",
    "\n",
    "round(ES,6)"
   ]
  },
  {
   "cell_type": "code",
   "execution_count": 177,
   "id": "8824c290",
   "metadata": {},
   "outputs": [
    {
     "data": {
      "text/html": [
       "<strong>5%:</strong> -0.0710842974893549"
      ],
      "text/latex": [
       "\\textbf{5\\textbackslash{}\\%:} -0.0710842974893549"
      ],
      "text/markdown": [
       "**5%:** -0.0710842974893549"
      ],
      "text/plain": [
       "        5% \n",
       "-0.0710843 "
      ]
     },
     "metadata": {},
     "output_type": "display_data"
    },
    {
     "data": {
      "text/html": [
       "-0.0979810018093839"
      ],
      "text/latex": [
       "-0.0979810018093839"
      ],
      "text/markdown": [
       "-0.0979810018093839"
      ],
      "text/plain": [
       "[1] -0.097981"
      ]
     },
     "metadata": {},
     "output_type": "display_data"
    }
   ],
   "source": [
    "# Method - B - IID simulation from empirical distribution - simulating from the actual data\n",
    "alpha <- 0.05\n",
    "set.seed(123789)\n",
    "library(metRology)\n",
    "rvec <- rep(0,100000)\n",
    "for (i in 1:10){\n",
    "    rvec <- rvec+sample(as.vector(logret),100000,replace=TRUE)\n",
    "}\n",
    "VAR <- quantile(rvec,alpha)\n",
    "ES <- mean(rvec[rvec<VAR])\n",
    "\n",
    "VAR\n",
    "ES"
   ]
  },
  {
   "cell_type": "code",
   "execution_count": 178,
   "id": "bfc783cf",
   "metadata": {},
   "outputs": [
    {
     "data": {
      "text/html": [
       "<strong>5%:</strong> -0.0594569802312135"
      ],
      "text/latex": [
       "\\textbf{5\\textbackslash{}\\%:} -0.0594569802312135"
      ],
      "text/markdown": [
       "**5%:** -0.0594569802312135"
      ],
      "text/plain": [
       "         5% \n",
       "-0.05945698 "
      ]
     },
     "metadata": {},
     "output_type": "display_data"
    },
    {
     "data": {
      "text/html": [
       "-0.107810405713073"
      ],
      "text/latex": [
       "-0.107810405713073"
      ],
      "text/markdown": [
       "-0.107810405713073"
      ],
      "text/plain": [
       "[1] -0.1078104"
      ]
     },
     "metadata": {},
     "output_type": "display_data"
    }
   ],
   "source": [
    "# Method C - Block simulation from empirical distribution\n",
    "# randomly pick a block of 10 consecutive 1-day log-returns from the actual data.Add them up to get a 10-day log-return\n",
    "alpha <- 0.05\n",
    "set.seed(123789)\n",
    "rvec <- rep(0,100000)\n",
    "rdat <- as.vector(logret)\n",
    "posn <- seq(from=1,to=length(rdat)-9,by=1)\n",
    "rpos <- sample(posn,100000,replace=TRUE)\n",
    "for (i in 1:10){\n",
    "    rvec <- rvec+rdat[rpos]\n",
    "    rpos <- rpos+1\n",
    "}\n",
    "\n",
    "VAR <- quantile(rvec,alpha)\n",
    "ES <- mean(rvec[rvec<VAR])\n",
    "\n",
    "VAR\n",
    "ES"
   ]
  },
  {
   "cell_type": "code",
   "execution_count": 179,
   "id": "a2660500",
   "metadata": {},
   "outputs": [],
   "source": [
    "# If there is some important time-dependence in our data then method B & C may give different answers"
   ]
  },
  {
   "cell_type": "code",
   "execution_count": 180,
   "id": "996e3704",
   "metadata": {},
   "outputs": [
    {
     "data": {
      "image/png": "[encoded data removed]",
      "text/plain": [
       "Plot with title \"Series  logret\""
      ]
     },
     "metadata": {},
     "output_type": "display_data"
    }
   ],
   "source": [
    "# Auto-correlation f(x) of logret\n",
    "acf(logret) # dashed lines - 95% confidence band for the acf around 0 - As if it is outside the band - then there is significant\n",
    "# Serial correlation"
   ]
  },
  {
   "cell_type": "code",
   "execution_count": 181,
   "id": "5b64ed96",
   "metadata": {},
   "outputs": [
    {
     "data": {
      "image/png": "[encoded data removed]",
      "text/plain": [
       "Plot with title \"Series  abs(logret)\""
      ]
     },
     "metadata": {},
     "output_type": "display_data"
    }
   ],
   "source": [
    "# Volatility Clustering\n",
    "# ACF for NTC daily log-returns\n",
    "acf(abs(logret)) # absolute value"
   ]
  },
  {
   "cell_type": "code",
   "execution_count": 182,
   "id": "b9ef6a76",
   "metadata": {},
   "outputs": [],
   "source": [
    "#High serial correlations , so predictable #Testing for 2nd assumptions - above & Next below\n",
    "\n",
    "#absolute - Large returns whether +ve /-ve = Tend to be followed by large returns- \n",
    "#This is what happens when data has clusters of volatility\n",
    "\n",
    "#Daily index of MSCI-Devd has strong volatility clustering # Img of logreturns - therefore predictable"
   ]
  },
  {
   "cell_type": "code",
   "execution_count": 183,
   "id": "3c946487",
   "metadata": {},
   "outputs": [],
   "source": [
    "#Volatilility which is the standard deviation of log-returns\n",
    "library(rugarch)"
   ]
  },
  {
   "cell_type": "code",
   "execution_count": 184,
   "id": "81ca83f4",
   "metadata": {},
   "outputs": [],
   "source": [
    "garch.N <- ugarchspec(variance.model = list(model = \"sGARCH\",garchOrder = c(1,1)),\n",
    "                     mean.model = list(armaOrder = c(0,0),include.mean = TRUE),\n",
    "                     distribution.model = \"norm\")\n",
    "# saving the model as garch.N"
   ]
  },
  {
   "cell_type": "code",
   "execution_count": 185,
   "id": "04053a77",
   "metadata": {},
   "outputs": [
    {
     "data": {
      "text/plain": [
       "\n",
       "*---------------------------------*\n",
       "*          GARCH Model Fit        *\n",
       "*---------------------------------*\n",
       "\n",
       "Conditional Variance Dynamics \t\n",
       "-----------------------------------\n",
       "GARCH Model\t: sGARCH(1,1)\n",
       "Mean Model\t: ARFIMA(0,0,0)\n",
       "Distribution\t: norm \n",
       "\n",
       "Optimal Parameters\n",
       "------------------------------------\n",
       "        Estimate  Std. Error  t value Pr(>|t|)\n",
       "mu      0.000620    0.000139   4.4563 0.000008\n",
       "omega   0.000002    0.000001   2.1578 0.030943\n",
       "alpha1  0.152358    0.016465   9.2537 0.000000\n",
       "beta1   0.843173    0.014902  56.5829 0.000000\n",
       "\n",
       "Robust Standard Errors:\n",
       "        Estimate  Std. Error  t value Pr(>|t|)\n",
       "mu      0.000620    0.000121  5.12995 0.000000\n",
       "omega   0.000002    0.000005  0.43989 0.660021\n",
       "alpha1  0.152358    0.048885  3.11666 0.001829\n",
       "beta1   0.843173    0.052513 16.05636 0.000000\n",
       "\n",
       "LogLikelihood : 9700.64 \n",
       "\n",
       "Information Criteria\n",
       "------------------------------------\n",
       "                    \n",
       "Akaike       -6.4237\n",
       "Bayes        -6.4158\n",
       "Shibata      -6.4237\n",
       "Hannan-Quinn -6.4209\n",
       "\n",
       "Weighted Ljung-Box Test on Standardized Residuals\n",
       "------------------------------------\n",
       "                        statistic p-value\n",
       "Lag[1]                      1.441  0.2299\n",
       "Lag[2*(p+q)+(p+q)-1][2]     1.515  0.3575\n",
       "Lag[4*(p+q)+(p+q)-1][5]     1.990  0.6208\n",
       "d.o.f=0\n",
       "H0 : No serial correlation\n",
       "\n",
       "Weighted Ljung-Box Test on Standardized Squared Residuals\n",
       "------------------------------------\n",
       "                        statistic p-value\n",
       "Lag[1]                     0.2535  0.6146\n",
       "Lag[2*(p+q)+(p+q)-1][5]    1.6965  0.6916\n",
       "Lag[4*(p+q)+(p+q)-1][9]    2.3985  0.8525\n",
       "d.o.f=2\n",
       "\n",
       "Weighted ARCH LM Tests\n",
       "------------------------------------\n",
       "            Statistic Shape Scale P-Value\n",
       "ARCH Lag[3]   0.08575 0.500 2.000  0.7697\n",
       "ARCH Lag[5]   0.93400 1.440 1.667  0.7526\n",
       "ARCH Lag[7]   1.12355 2.315 1.543  0.8927\n",
       "\n",
       "Nyblom stability test\n",
       "------------------------------------\n",
       "Joint Statistic:  19.4661\n",
       "Individual Statistics:             \n",
       "mu     0.1082\n",
       "omega  3.1492\n",
       "alpha1 0.4647\n",
       "beta1  1.1753\n",
       "\n",
       "Asymptotic Critical Values (10% 5% 1%)\n",
       "Joint Statistic:     \t 1.07 1.24 1.6\n",
       "Individual Statistic:\t 0.35 0.47 0.75\n",
       "\n",
       "Sign Bias Test\n",
       "------------------------------------\n",
       "                   t-value    prob sig\n",
       "Sign Bias           2.2462 0.02476  **\n",
       "Negative Sign Bias  0.7557 0.44991    \n",
       "Positive Sign Bias  1.5044 0.13258    \n",
       "Joint Effect       13.7406 0.00328 ***\n",
       "\n",
       "\n",
       "Adjusted Pearson Goodness-of-Fit Test:\n",
       "------------------------------------\n",
       "  group statistic p-value(g-1)\n",
       "1    20     121.7    5.326e-17\n",
       "2    30     148.9    4.510e-18\n",
       "3    40     174.1    5.497e-19\n",
       "4    50     194.3    3.400e-19\n",
       "\n",
       "\n",
       "Elapsed time : 0.3451111 \n"
      ]
     },
     "metadata": {},
     "output_type": "display_data"
    }
   ],
   "source": [
    "fit.garch.N <- ugarchfit(spec = garch.N,data = logret)\n",
    "fit.garch.N"
   ]
  },
  {
   "cell_type": "code",
   "execution_count": 186,
   "id": "61f60447",
   "metadata": {},
   "outputs": [],
   "source": [
    "# save Fitted Values \n",
    "save1 <- cbind(logret,fit.garch.N@fit$sigma,fit.garch.N@fit$z)\n",
    "names(save1) <- c(\"logret\",\"s\",\"z\")\n",
    "# we are adding 3 columns logret +  fitted values of sqr root of fitted values of ht\n",
    "# + Fitted values of et"
   ]
  },
  {
   "cell_type": "code",
   "execution_count": 187,
   "id": "8dd8eb9e",
   "metadata": {},
   "outputs": [
    {
     "data": {
      "image/png": "[encoded data removed]",
      "text/plain": [
       "plot without title"
      ]
     },
     "metadata": {},
     "output_type": "display_data"
    }
   ],
   "source": [
    "plot(save1)"
   ]
  },
  {
   "cell_type": "code",
   "execution_count": 188,
   "id": "96a9ad0f",
   "metadata": {},
   "outputs": [
    {
     "data": {
      "text/plain": [
       "                  logret          s           z\n",
       "2008-03-31 -0.0156915339 0.01371052 -1.18967704\n",
       "2008-04-01  0.0266096155 0.01417970  1.83290586\n",
       "2008-04-02  0.0109955371 0.01656735  0.62629058\n",
       "2008-04-03  0.0056472959 0.01580713  0.31806764\n",
       "2008-04-04 -0.0005826832 0.01471603 -0.08169621\n",
       "2008-04-07  0.0058113363 0.01359594  0.38186224"
      ]
     },
     "metadata": {},
     "output_type": "display_data"
    }
   ],
   "source": [
    "head(save1)"
   ]
  },
  {
   "cell_type": "code",
   "execution_count": 189,
   "id": "8ad8d3ea",
   "metadata": {},
   "outputs": [
    {
     "data": {
      "text/html": [
       "-0.05136707"
      ],
      "text/latex": [
       "-0.05136707"
      ],
      "text/markdown": [
       "-0.05136707"
      ],
      "text/plain": [
       "[1] -0.05136707"
      ]
     },
     "metadata": {},
     "output_type": "display_data"
    },
    {
     "data": {
      "text/html": [
       "0.99887085"
      ],
      "text/latex": [
       "0.99887085"
      ],
      "text/markdown": [
       "0.99887085"
      ],
      "text/plain": [
       "[1] 0.9988708"
      ]
     },
     "metadata": {},
     "output_type": "display_data"
    }
   ],
   "source": [
    "#Diagnostic test for the neww fitted et\n",
    "# Distribution of returns\n",
    "# ESTIMATE U -using sample mean  and sigma using std. deviation\n",
    "\n",
    "mu <- round(mean(save1$z),8)\n",
    "\n",
    "sig <- round(sd(save1$z),8)\n",
    "\n",
    "mu\n",
    "sig"
   ]
  },
  {
   "cell_type": "code",
   "execution_count": 190,
   "id": "ac3066b7",
   "metadata": {},
   "outputs": [
    {
     "data": {
      "text/html": [
       "-0.59"
      ],
      "text/latex": [
       "-0.59"
      ],
      "text/markdown": [
       "-0.59"
      ],
      "text/plain": [
       "[1] -0.59"
      ]
     },
     "metadata": {},
     "output_type": "display_data"
    }
   ],
   "source": [
    "rvec <- as.vector(save1$z) # Converting into vector\n",
    "round(skewness(rvec),2) # So left-skewed"
   ]
  },
  {
   "cell_type": "code",
   "execution_count": 191,
   "id": "6736a9bf",
   "metadata": {},
   "outputs": [
    {
     "data": {
      "text/html": [
       "4.66"
      ],
      "text/latex": [
       "4.66"
      ],
      "text/markdown": [
       "4.66"
      ],
      "text/plain": [
       "[1] 4.66"
      ]
     },
     "metadata": {},
     "output_type": "display_data"
    }
   ],
   "source": [
    "# If a distribution has fatter tails = Leptokurtic\n",
    "# # If a distribution has Thinner tails = Platykurtic\n",
    "rvec <- as.vector(save1$z)\n",
    "round(kurtosis(rvec),2)"
   ]
  },
  {
   "cell_type": "code",
   "execution_count": 192,
   "id": "c23ddda0",
   "metadata": {},
   "outputs": [
    {
     "data": {
      "text/plain": [
       "\n",
       "\tJarque-Bera Normality Test\n",
       "\n",
       "data:  rvec\n",
       "JB = 520.9, p-value < 2.2e-16\n",
       "alternative hypothesis: greater\n"
      ]
     },
     "metadata": {},
     "output_type": "display_data"
    }
   ],
   "source": [
    "# Jarque Bera test for normality\n",
    "\n",
    "rvec <- as.vector(save1$z)\n",
    "jarque.test(rvec)  # i.e reject normality"
   ]
  },
  {
   "cell_type": "code",
   "execution_count": 193,
   "id": "d2d737e5",
   "metadata": {},
   "outputs": [],
   "source": [
    "#Now the expected values should have the following statistical properties\n",
    "#Mean =0\n",
    "#STD = 1\n",
    "# Skewness=0\n",
    "#Kurtosis = 3 # As per the GARCH model specifications \n",
    "# While in the previous moels the diagnostic test elements where actuallly better"
   ]
  },
  {
   "cell_type": "code",
   "execution_count": 194,
   "id": "83545930",
   "metadata": {},
   "outputs": [
    {
     "data": {
      "image/png": "[encoded data removed]",
      "text/plain": [
       "Plot with title \"Series  save1$z\""
      ]
     },
     "metadata": {},
     "output_type": "display_data"
    }
   ],
   "source": [
    "acf(save1$z)"
   ]
  },
  {
   "cell_type": "code",
   "execution_count": 195,
   "id": "3afe0f60",
   "metadata": {},
   "outputs": [
    {
     "data": {
      "image/png": "[encoded data removed]",
      "text/plain": [
       "Plot with title \"Series  abs(save1$z)\""
      ]
     },
     "metadata": {},
     "output_type": "display_data"
    }
   ],
   "source": [
    "acf(abs(save1$z))"
   ]
  },
  {
   "cell_type": "code",
   "execution_count": 196,
   "id": "262bd53f",
   "metadata": {},
   "outputs": [],
   "source": [
    "#Till Now we have done with a GARCH(1,1) model a normal-distribution\n",
    "# Now with a GARCH(1,1) T-distribution\n",
    "\n",
    "# saving the model as garch.N"
   ]
  },
  {
   "cell_type": "code",
   "execution_count": 197,
   "id": "c428c776",
   "metadata": {},
   "outputs": [
    {
     "data": {
      "text/plain": [
       "\n",
       "*---------------------------------*\n",
       "*          GARCH Model Fit        *\n",
       "*---------------------------------*\n",
       "\n",
       "Conditional Variance Dynamics \t\n",
       "-----------------------------------\n",
       "GARCH Model\t: sGARCH(1,1)\n",
       "Mean Model\t: ARFIMA(0,0,0)\n",
       "Distribution\t: std \n",
       "\n",
       "Optimal Parameters\n",
       "------------------------------------\n",
       "        Estimate  Std. Error  t value Pr(>|t|)\n",
       "mu      0.000783    0.000130   6.0173  0.00000\n",
       "omega   0.000002    0.000002   1.0474  0.29492\n",
       "alpha1  0.145807    0.028145   5.1805  0.00000\n",
       "beta1   0.853193    0.025166  33.9031  0.00000\n",
       "shape   5.891392    0.693874   8.4906  0.00000\n",
       "\n",
       "Robust Standard Errors:\n",
       "        Estimate  Std. Error  t value Pr(>|t|)\n",
       "mu      0.000783    0.000103  7.57680 0.000000\n",
       "omega   0.000002    0.000009  0.19415 0.846060\n",
       "alpha1  0.145807    0.129289  1.12776 0.259421\n",
       "beta1   0.853193    0.119902  7.11578 0.000000\n",
       "shape   5.891392    1.845608  3.19211 0.001412\n",
       "\n",
       "LogLikelihood : 9779.229 \n",
       "\n",
       "Information Criteria\n",
       "------------------------------------\n",
       "                    \n",
       "Akaike       -6.4751\n",
       "Bayes        -6.4652\n",
       "Shibata      -6.4751\n",
       "Hannan-Quinn -6.4716\n",
       "\n",
       "Weighted Ljung-Box Test on Standardized Residuals\n",
       "------------------------------------\n",
       "                        statistic p-value\n",
       "Lag[1]                      1.525  0.2169\n",
       "Lag[2*(p+q)+(p+q)-1][2]     1.602  0.3383\n",
       "Lag[4*(p+q)+(p+q)-1][5]     2.102  0.5945\n",
       "d.o.f=0\n",
       "H0 : No serial correlation\n",
       "\n",
       "Weighted Ljung-Box Test on Standardized Squared Residuals\n",
       "------------------------------------\n",
       "                        statistic p-value\n",
       "Lag[1]                     0.0546  0.8152\n",
       "Lag[2*(p+q)+(p+q)-1][5]    1.8424  0.6561\n",
       "Lag[4*(p+q)+(p+q)-1][9]    2.6604  0.8134\n",
       "d.o.f=2\n",
       "\n",
       "Weighted ARCH LM Tests\n",
       "------------------------------------\n",
       "            Statistic Shape Scale P-Value\n",
       "ARCH Lag[3]   0.04532 0.500 2.000  0.8314\n",
       "ARCH Lag[5]   1.09573 1.440 1.667  0.7047\n",
       "ARCH Lag[7]   1.30902 2.315 1.543  0.8587\n",
       "\n",
       "Nyblom stability test\n",
       "------------------------------------\n",
       "Joint Statistic:  49.3428\n",
       "Individual Statistics:              \n",
       "mu     0.03576\n",
       "omega  8.80789\n",
       "alpha1 0.91371\n",
       "beta1  1.75252\n",
       "shape  0.59918\n",
       "\n",
       "Asymptotic Critical Values (10% 5% 1%)\n",
       "Joint Statistic:     \t 1.28 1.47 1.88\n",
       "Individual Statistic:\t 0.35 0.47 0.75\n",
       "\n",
       "Sign Bias Test\n",
       "------------------------------------\n",
       "                   t-value    prob sig\n",
       "Sign Bias           2.2361 0.02542  **\n",
       "Negative Sign Bias  0.7633 0.44535    \n",
       "Positive Sign Bias  1.4204 0.15561    \n",
       "Joint Effect       13.1469 0.00433 ***\n",
       "\n",
       "\n",
       "Adjusted Pearson Goodness-of-Fit Test:\n",
       "------------------------------------\n",
       "  group statistic p-value(g-1)\n",
       "1    20     58.93    5.714e-06\n",
       "2    30     74.10    8.166e-06\n",
       "3    40     85.11    2.796e-05\n",
       "4    50     98.24    3.809e-05\n",
       "\n",
       "\n",
       "Elapsed time : 0.325129 \n"
      ]
     },
     "metadata": {},
     "output_type": "display_data"
    }
   ],
   "source": [
    "#Till Now we have done with a GARCH(1,1) model a normal-distribution\n",
    "# Now with a GARCH(1,1) T-distribution\n",
    "garch.t <- ugarchspec(variance.model = list(model = \"sGARCH\",garchOrder = c(1,1)),\n",
    "                     mean.model = list(armaOrder = c(0,0),include.mean = TRUE),\n",
    "                     distribution.model = \"std\")\n",
    "\n",
    "fit.garch.t <- ugarchfit(spec = garch.t,data = logret)\n",
    "\n",
    "fit.garch.t\n",
    "\n",
    "# saving the model as garch.t"
   ]
  },
  {
   "cell_type": "code",
   "execution_count": 198,
   "id": "c32694bc",
   "metadata": {},
   "outputs": [],
   "source": [
    "# save Fitted Values\n",
    "save2 <- cbind(logret,fit.garch.t@fit$sigma,fit.garch.t@fit$z)\n",
    "names(save2) <- c(\"logret\",\"s\",\"z\")\n",
    "\n",
    "parm1 <- fit.garch.t@fit$coef"
   ]
  },
  {
   "cell_type": "code",
   "execution_count": 199,
   "id": "765fb0f4",
   "metadata": {},
   "outputs": [
    {
     "data": {
      "text/html": [
       "-0.07037497"
      ],
      "text/latex": [
       "-0.07037497"
      ],
      "text/markdown": [
       "-0.07037497"
      ],
      "text/plain": [
       "[1] -0.07037497"
      ]
     },
     "metadata": {},
     "output_type": "display_data"
    },
    {
     "data": {
      "text/html": [
       "0.9986505"
      ],
      "text/latex": [
       "0.9986505"
      ],
      "text/markdown": [
       "0.9986505"
      ],
      "text/plain": [
       "[1] 0.9986505"
      ]
     },
     "metadata": {},
     "output_type": "display_data"
    }
   ],
   "source": [
    "#Diagnostic test for the neww fitted et\n",
    "# Distribution of returns\n",
    "# ESTIMATE U -using sample mean  and sigma using std. deviation\n",
    "\n",
    "mu <- round(mean(save2$z),8)\n",
    "\n",
    "sig <- round(sd(save2$z),8)\n",
    "\n",
    "mu\n",
    "sig"
   ]
  },
  {
   "cell_type": "code",
   "execution_count": 200,
   "id": "d3a3a439",
   "metadata": {},
   "outputs": [
    {
     "data": {
      "text/html": [
       "-0.59"
      ],
      "text/latex": [
       "-0.59"
      ],
      "text/markdown": [
       "-0.59"
      ],
      "text/plain": [
       "[1] -0.59"
      ]
     },
     "metadata": {},
     "output_type": "display_data"
    }
   ],
   "source": [
    "rvec <- as.vector(save2$z) # Converting into vector\n",
    "round(skewness(rvec),2) # So left-skewed"
   ]
  },
  {
   "cell_type": "code",
   "execution_count": 201,
   "id": "2f6866b2",
   "metadata": {},
   "outputs": [
    {
     "data": {
      "text/html": [
       "4.69"
      ],
      "text/latex": [
       "4.69"
      ],
      "text/markdown": [
       "4.69"
      ],
      "text/plain": [
       "[1] 4.69"
      ]
     },
     "metadata": {},
     "output_type": "display_data"
    }
   ],
   "source": [
    "# If a distribution has fatter tails = Leptokurtic\n",
    "# # If a distribution has Thinner tails = Platykurtic\n",
    "rvec <- as.vector(save2$z)\n",
    "round(kurtosis(rvec),2) #Heavy Tailed as it is > than 3 | Normal if = 3 |  < 3 - for thin tailed test"
   ]
  },
  {
   "cell_type": "code",
   "execution_count": 202,
   "id": "2d2d2bf9",
   "metadata": {},
   "outputs": [
    {
     "data": {
      "text/plain": [
       "\n",
       "\tJarque-Bera Normality Test\n",
       "\n",
       "data:  rvec\n",
       "JB = 535.98, p-value < 2.2e-16\n",
       "alternative hypothesis: greater\n"
      ]
     },
     "metadata": {},
     "output_type": "display_data"
    }
   ],
   "source": [
    "# Jarque Bera test for normality\n",
    "\n",
    "rvec <- as.vector(save2$z)\n",
    "jarque.test(rvec)  # i.e reject normality"
   ]
  },
  {
   "cell_type": "code",
   "execution_count": 203,
   "id": "6b9bc20b",
   "metadata": {},
   "outputs": [],
   "source": [
    "#Now the expected values should have the following statistical properties\n",
    "#Mean =0\n",
    "#STD = 1\n",
    "# Skewness=0\n",
    "#Kurtosis = 3+6/v-4 # As per the GARCH model specifications \n",
    "# While in the previous moels the diagnostic test elements where actuallly better"
   ]
  },
  {
   "cell_type": "code",
   "execution_count": 204,
   "id": "04a3e82e",
   "metadata": {},
   "outputs": [
    {
     "data": {
      "image/png": "[encoded data removed]",
      "text/plain": [
       "Plot with title \"Series  save2$z\""
      ]
     },
     "metadata": {},
     "output_type": "display_data"
    }
   ],
   "source": [
    "acf(save2$z)"
   ]
  },
  {
   "cell_type": "code",
   "execution_count": 205,
   "id": "85a1f685",
   "metadata": {},
   "outputs": [
    {
     "data": {
      "image/png": "[encoded data removed]",
      "text/plain": [
       "Plot with title \"Series  abs(save2$z)\""
      ]
     },
     "metadata": {},
     "output_type": "display_data"
    }
   ],
   "source": [
    "acf(abs(save2$z))"
   ]
  },
  {
   "cell_type": "code",
   "execution_count": 206,
   "id": "2b731a47",
   "metadata": {},
   "outputs": [
    {
     "data": {
      "image/png": "[encoded data removed]",
      "text/plain": [
       "plot without title"
      ]
     },
     "metadata": {},
     "output_type": "display_data"
    }
   ],
   "source": [
    "plot(save1$s)"
   ]
  },
  {
   "cell_type": "code",
   "execution_count": 207,
   "id": "bc739df0",
   "metadata": {},
   "outputs": [
    {
     "data": {
      "image/png": "[encoded data removed]",
      "text/plain": [
       "plot without title"
      ]
     },
     "metadata": {},
     "output_type": "display_data"
    }
   ],
   "source": [
    "plot(save2$s)"
   ]
  },
  {
   "cell_type": "code",
   "execution_count": 208,
   "id": "d2031c8a",
   "metadata": {},
   "outputs": [],
   "source": [
    "#Graph of fiited sqr. root of ht in both cases - it denotes the volatility clustering in the Bitcoin Prices\n",
    "# As the volatility is high VAR & ES are going to be High\n",
    "# As the volatility is low VAR & ES are going to be Low\n",
    "# So above VAR and ES are going to be high at aril 1,2020"
   ]
  },
  {
   "cell_type": "code",
   "execution_count": 209,
   "id": "013d70ad",
   "metadata": {},
   "outputs": [],
   "source": [
    "#Now that we have estimated the GARCH model now we can now estimate it to Find VAR & ES using UGARCH boot function\n",
    "# Simulate 1-day ahead with ugarchboot() fxn\n",
    "\n",
    "#Simulate outcomes by bootstrapping from fited et of fit.garch.t\n",
    "set.seed(123789)\n",
    "boot.garch <- ugarchboot(fit.garch.t,\n",
    "                        method=\"Partial\",\n",
    "                        sampling=\"raw\",   #bootstrap fro fitted e\n",
    "                        n.ahead=1,           #simulation horizon # How many periods to simulate - Me the next day\n",
    "                        n.bootpred=100000,     #number of simulations\n",
    "                        solver=\"solnp\") #Save it at boot.garch"
   ]
  },
  {
   "cell_type": "code",
   "execution_count": 210,
   "id": "df6a2078",
   "metadata": {},
   "outputs": [
    {
     "data": {
      "text/html": [
       "<strong>5%:</strong> -0.0993607787219798"
      ],
      "text/latex": [
       "\\textbf{5\\textbackslash{}\\%:} -0.0993607787219798"
      ],
      "text/markdown": [
       "**5%:** -0.0993607787219798"
      ],
      "text/plain": [
       "         5% \n",
       "-0.09936078 "
      ]
     },
     "metadata": {},
     "output_type": "display_data"
    },
    {
     "data": {
      "text/html": [
       "-0.140197518678466"
      ],
      "text/latex": [
       "-0.140197518678466"
      ],
      "text/markdown": [
       "-0.140197518678466"
      ],
      "text/plain": [
       "[1] -0.1401975"
      ]
     },
     "metadata": {},
     "output_type": "display_data"
    }
   ],
   "source": [
    "#Calculate the VAR and ES from the simulated outcomes\n",
    "\n",
    "\n",
    "rvec <- boot.garch@fseries\n",
    "alpha <- 0.05\n",
    "VAR <- quantile(rvec,alpha)\n",
    "ES <- mean(rvec[rvec<VAR])\n",
    "\n",
    "VAR \n",
    "ES            # Prediction for 9-03-2021"
   ]
  },
  {
   "cell_type": "code",
   "execution_count": 211,
   "id": "331228b9",
   "metadata": {},
   "outputs": [],
   "source": [
    "#Now that we have estimated the GARCH model now we can now estimate it to Find VAR & ES using UGARCH boot function\n",
    "# Simulate 1-day ahead with ugarchboot() fxn\n",
    "\n",
    "#Simulate outcomes by bootstrapping from fited et of fit.garch.t\n",
    "set.seed(123789)\n",
    "boot.garch1 <- ugarchboot(fit.garch.N,\n",
    "                        method=\"Partial\",\n",
    "                        sampling=\"raw\",   #bootstrap fro fitted e\n",
    "                        n.ahead=1,           #simulation horizon # How many periods to simulate - Me the next day\n",
    "                        n.bootpred=100000,     #number of simulations\n",
    "                        solver=\"solnp\") #Save it at boot.garch"
   ]
  },
  {
   "cell_type": "code",
   "execution_count": 212,
   "id": "0c47b26c",
   "metadata": {},
   "outputs": [
    {
     "data": {
      "text/html": [
       "<strong>5%:</strong> -0.0983234484273351"
      ],
      "text/latex": [
       "\\textbf{5\\textbackslash{}\\%:} -0.0983234484273351"
      ],
      "text/markdown": [
       "**5%:** -0.0983234484273351"
      ],
      "text/plain": [
       "         5% \n",
       "-0.09832345 "
      ]
     },
     "metadata": {},
     "output_type": "display_data"
    },
    {
     "data": {
      "text/html": [
       "-0.137838195702237"
      ],
      "text/latex": [
       "-0.137838195702237"
      ],
      "text/markdown": [
       "-0.137838195702237"
      ],
      "text/plain": [
       "[1] -0.1378382"
      ]
     },
     "metadata": {},
     "output_type": "display_data"
    }
   ],
   "source": [
    "#Calculate the VAR and ES from the simulated outcomes\n",
    "\n",
    "\n",
    "rvec <- boot.garch1@fseries\n",
    "alpha <- 0.05\n",
    "VAR <- quantile(rvec,alpha)\n",
    "ES <- mean(rvec[rvec<VAR])\n",
    "\n",
    "VAR \n",
    "ES  "
   ]
  },
  {
   "cell_type": "code",
   "execution_count": null,
   "id": "b4145a31",
   "metadata": {},
   "outputs": [],
   "source": []
  },
  {
   "cell_type": "code",
   "execution_count": null,
   "id": "8f2b6c82",
   "metadata": {},
   "outputs": [],
   "source": []
  },
  {
   "cell_type": "code",
   "execution_count": null,
   "id": "d6cb7929",
   "metadata": {},
   "outputs": [],
   "source": []
  },
  {
   "cell_type": "code",
   "execution_count": null,
   "id": "8de25913",
   "metadata": {},
   "outputs": [],
   "source": []
  },
  {
   "cell_type": "code",
   "execution_count": null,
   "id": "12c4a8bd",
   "metadata": {},
   "outputs": [],
   "source": []
  },
  {
   "cell_type": "code",
   "execution_count": null,
   "id": "02063999",
   "metadata": {},
   "outputs": [],
   "source": []
  },
  {
   "cell_type": "code",
   "execution_count": null,
   "id": "6da231fc",
   "metadata": {},
   "outputs": [],
   "source": []
  }
 ],
 "metadata": {
  "kernelspec": {
   "display_name": "R",
   "language": "R",
   "name": "ir"
  },
  "language_info": {
   "codemirror_mode": "r",
   "file_extension": ".r",
   "mimetype": "text/x-r-source",
   "name": "R",
   "pygments_lexer": "r",
   "version": "3.6.1"
  }
 },
 "nbformat": 4,
 "nbformat_minor": 5
}
