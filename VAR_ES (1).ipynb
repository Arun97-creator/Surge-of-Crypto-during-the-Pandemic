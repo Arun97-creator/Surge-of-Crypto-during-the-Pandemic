{
 "cells": [
  {
   "cell_type": "code",
   "execution_count": 1,
   "metadata": {},
   "outputs": [
    {
     "name": "stdout",
     "output_type": "stream",
     "text": [
      "package 'quantmod' successfully unpacked and MD5 sums checked\n",
      "\n",
      "The downloaded binary packages are in\n",
      "\tC:\\Users\\HP\\AppData\\Local\\Temp\\RtmpiC9ObS\\downloaded_packages\n"
     ]
    },
    {
     "name": "stderr",
     "output_type": "stream",
     "text": [
      "Warning message:\n",
      "\"package 'quantmod' was built under R version 3.6.3\"Loading required package: xts\n",
      "Warning message:\n",
      "\"package 'xts' was built under R version 3.6.3\"Loading required package: zoo\n",
      "Warning message:\n",
      "\"package 'zoo' was built under R version 3.6.3\"\n",
      "Attaching package: 'zoo'\n",
      "\n",
      "The following objects are masked from 'package:base':\n",
      "\n",
      "    as.Date, as.Date.numeric\n",
      "\n",
      "Loading required package: TTR\n",
      "Warning message:\n",
      "\"package 'TTR' was built under R version 3.6.3\"Registered S3 method overwritten by 'quantmod':\n",
      "  method            from\n",
      "  as.zoo.data.frame zoo \n"
     ]
    }
   ],
   "source": [
    "install.packages('quantmod')\n",
    "library(quantmod)"
   ]
  },
  {
   "cell_type": "code",
   "execution_count": 2,
   "metadata": {},
   "outputs": [
    {
     "name": "stderr",
     "output_type": "stream",
     "text": [
      "'getSymbols' currently uses auto.assign=TRUE by default, but will\n",
      "use auto.assign=FALSE in 0.5-0. You will still be able to use\n",
      "'loadSymbols' to automatically load data. getOption(\"getSymbols.env\")\n",
      "and getOption(\"getSymbols.auto.assign\") will still be checked for\n",
      "alternate defaults.\n",
      "\n",
      "This message is shown once per session and may be disabled by setting \n",
      "options(\"getSymbols.warning4.0\"=FALSE). See ?getSymbols for details.\n",
      "\n",
      "Warning message:\n",
      "\"BTC-USD contains missing values. Some functions will not work if objects contain missing values in the middle of the series. Consider using na.omit(), na.approx(), na.fill(), etc to remove or replace them.\""
     ]
    }
   ],
   "source": [
    "BTC <- getSymbols(\"BTC-USD\",src=\"yahoo\",auto.assign=FALSE)\n",
    "BTC <- na.omit(BTC)\n",
    "BTC <- BTC[\"2019-12-31/2021-03-08\"]\n",
    "#names(BTC) <- \"TR\"\n",
    "#head(BTC)\n",
    "\n",
    "#BItcoin <- BTC %>% select(1, 3)"
   ]
  },
  {
   "cell_type": "code",
   "execution_count": 3,
   "metadata": {},
   "outputs": [
    {
     "data": {
      "text/plain": [
       "           BTC-USD.Open BTC-USD.High BTC-USD.Low BTC-USD.Close BTC-USD.Volume\n",
       "2021-03-06     48899.23     49147.22    47257.53      48912.38    34363564661\n",
       "2021-03-07     48918.68     51384.37    48918.68      51206.69    43137459378\n",
       "2021-03-08     51174.12     52314.07    49506.05      52246.52    48597428048\n",
       "           BTC-USD.Adjusted\n",
       "2021-03-06         48912.38\n",
       "2021-03-07         51206.69\n",
       "2021-03-08         52246.52"
      ]
     },
     "metadata": {},
     "output_type": "display_data"
    }
   ],
   "source": [
    "tail(BTC,3)"
   ]
  },
  {
   "cell_type": "markdown",
   "metadata": {},
   "source": [
    "### Using database form FRED"
   ]
  },
  {
   "cell_type": "code",
   "execution_count": 4,
   "metadata": {},
   "outputs": [
    {
     "data": {
      "text/plain": [
       "                TR\n",
       "2019-12-31 7158.01\n",
       "2020-01-01 7174.32\n",
       "2020-01-02 6945.01\n",
       "2020-01-03 7335.54\n",
       "2020-01-04 7353.50\n",
       "2020-01-05 7348.69"
      ]
     },
     "metadata": {},
     "output_type": "display_data"
    }
   ],
   "source": [
    "BTC1 <- getSymbols(\"CBBTCUSD\",src=\"FRED\",auto.assign=FALSE)\n",
    "BTC1 <- na.omit(BTC1)\n",
    "BTC1 <- BTC1[\"2019-12-31/2021-03-08\"]\n",
    "names(BTC1) <- \"TR\" # Naming our column Close Price as \"TR\"\n",
    "head(BTC1) "
   ]
  },
  {
   "cell_type": "code",
   "execution_count": 5,
   "metadata": {},
   "outputs": [
    {
     "data": {
      "text/plain": [
       "                 TR\n",
       "2021-03-03 50164.67\n",
       "2021-03-04 48327.39\n",
       "2021-03-05 48908.09\n",
       "2021-03-06 48986.85\n",
       "2021-03-07 50858.34\n",
       "2021-03-08 52472.59"
      ]
     },
     "metadata": {},
     "output_type": "display_data"
    }
   ],
   "source": [
    "tail(BTC1)"
   ]
  },
  {
   "cell_type": "code",
   "execution_count": 6,
   "metadata": {},
   "outputs": [
    {
     "data": {
      "text/plain": [
       "                     TR\n",
       "2019-12-31           NA\n",
       "2020-01-01  0.002275974\n",
       "2020-01-02 -0.032484568"
      ]
     },
     "metadata": {},
     "output_type": "display_data"
    }
   ],
   "source": [
    "# Calculate Holding period Return\n",
    "# The R code to find Log-return\n",
    "logret <- diff(log(BTC1$TR))  # diff function gives us the return\n",
    "head(logret,3)"
   ]
  },
  {
   "cell_type": "code",
   "execution_count": 7,
   "metadata": {},
   "outputs": [
    {
     "data": {
      "text/plain": [
       "                  TR\n",
       "2020-01-01  0.002276\n",
       "2020-01-02 -0.032485\n",
       "2020-01-03  0.054708"
      ]
     },
     "metadata": {},
     "output_type": "display_data"
    }
   ],
   "source": [
    "# The R code to find log-return, removing missing First Observation\n",
    "\n",
    "logret <- diff(log(BTC1$TR))[-1]\n",
    "round(head(logret,3),6)   # round function to display 6 decimals\n",
    "\n",
    "# First Value interpretation \n",
    "# the value of us stock increased by 0.2% from 31st Dec. 2019 -- 01-02-2020 (jan 2nd)"
   ]
  },
  {
   "cell_type": "code",
   "execution_count": 8,
   "metadata": {},
   "outputs": [
    {
     "data": {
      "image/png": "[encoded data removed]",
      "text/plain": [
       "plot without title"
      ]
     },
     "metadata": {},
     "output_type": "display_data"
    }
   ],
   "source": [
    "plot(logret)"
   ]
  },
  {
   "cell_type": "code",
   "execution_count": 9,
   "metadata": {},
   "outputs": [
    {
     "data": {
      "text/plain": [
       "                  TR\n",
       "2020-01-01  0.002276\n",
       "2020-01-02 -0.032485\n",
       "2020-01-03  0.054708\n",
       "2020-01-04  0.002445\n",
       "2020-01-05 -0.000654\n",
       "2020-01-06  0.056196\n",
       "2020-01-07  0.049745\n",
       "2020-01-08 -0.016646\n",
       "2020-01-09 -0.027928\n",
       "2020-01-10  0.046279\n",
       "2020-01-11 -0.022365\n",
       "2020-01-12  0.023436\n",
       "2020-01-13 -0.010188\n",
       "2020-01-14  0.076823\n",
       "2020-01-15  0.008492\n",
       "2020-01-16 -0.011919\n",
       "2020-01-17  0.016883\n",
       "2020-01-18  0.002834\n",
       "2020-01-19 -0.021645\n",
       "2020-01-20 -0.008849\n",
       "2020-01-21  0.011096\n",
       "2020-01-22 -0.007473\n",
       "2020-01-23 -0.032653\n",
       "2020-01-24  0.004560\n",
       "2020-01-25 -0.014457\n",
       "2020-01-26  0.038841\n",
       "2020-01-27  0.030832\n",
       "2020-01-28  0.056169\n",
       "2020-01-29 -0.015801\n",
       "2020-01-30  0.023836\n",
       "2020-01-31 -0.015962\n",
       "2020-02-01  0.003396\n",
       "2020-02-02 -0.006528\n",
       "2020-02-03 -0.003417\n",
       "2020-02-04 -0.013418\n",
       "2020-02-05  0.049512\n",
       "2020-02-06  0.014701\n",
       "2020-02-07  0.003988\n",
       "2020-02-08  0.010768\n",
       "2020-02-09  0.026257\n",
       "2020-02-10 -0.031987\n",
       "2020-02-11  0.042271\n",
       "2020-02-12  0.006208\n",
       "2020-02-13 -0.010148\n",
       "2020-02-14  0.013621\n",
       "2020-02-15 -0.047211\n",
       "2020-02-16  0.001383\n",
       "2020-02-17 -0.020696\n",
       "2020-02-18  0.048198\n",
       "2020-02-19 -0.060674\n",
       "2020-02-20  0.001928\n",
       "2020-02-21  0.009008\n",
       "2020-02-22 -0.002969\n",
       "2020-02-23  0.030146\n",
       "2020-02-24 -0.030165\n",
       "2020-02-25 -0.038707\n",
       "2020-02-26 -0.058101\n",
       "2020-02-27  0.004627\n",
       "2020-02-28 -0.011814\n",
       "2020-02-29 -0.018660\n",
       "2020-03-01 -0.007250\n",
       "2020-03-02  0.049766\n",
       "2020-03-03 -0.017391\n",
       "2020-03-04 -0.000533\n",
       "2020-03-05  0.032392\n",
       "2020-03-06  0.012013\n",
       "2020-03-07 -0.030730\n",
       "2020-03-08 -0.096535\n",
       "2020-03-09 -0.015359\n",
       "2020-03-10 -0.007329\n",
       "2020-03-11  0.008837\n",
       "2020-03-12 -0.468625\n",
       "2020-03-13  0.116045\n",
       "2020-03-14 -0.076164\n",
       "2020-03-15  0.027500\n",
       "2020-03-16 -0.048642\n",
       "2020-03-17  0.055125\n",
       "2020-03-18  0.012039\n",
       "2020-03-19  0.136435\n",
       "2020-03-20 -0.000738\n",
       "2020-03-21 -0.007539\n",
       "2020-03-22 -0.063067\n",
       "2020-03-23  0.128124\n",
       "2020-03-24  0.023839\n",
       "2020-03-25  0.001574\n",
       "2020-03-26  0.002864\n",
       "2020-03-27 -0.069034\n",
       "2020-03-28 -0.008046\n",
       "2020-03-29 -0.061209\n",
       "2020-03-30  0.081958\n",
       "2020-03-31  0.005215\n",
       "2020-04-01  0.043287\n",
       "2020-04-02  0.010430\n",
       "2020-04-03 -0.009151\n",
       "2020-04-04  0.024752\n",
       "2020-04-05 -0.017088\n",
       "2020-04-06  0.076680\n",
       "2020-04-07 -0.015903\n",
       "2020-04-08  0.019119\n",
       "2020-04-09 -0.006689\n",
       "2020-04-10 -0.056707\n",
       "2020-04-11 -0.000161\n",
       "2020-04-12 -0.004430\n",
       "2020-04-13  0.001461\n",
       "2020-04-14 -0.000769\n",
       "2020-04-15 -0.042999\n",
       "2020-04-16  0.079827\n",
       "2020-04-17 -0.009602\n",
       "2020-04-18  0.030199\n",
       "2020-04-19 -0.020313\n",
       "2020-04-20 -0.041952\n",
       "2020-04-21  0.001818\n",
       "2020-04-22  0.042753\n",
       "2020-04-23  0.045836\n",
       "2020-04-24  0.004746\n",
       "2020-04-25  0.002797\n",
       "2020-04-26  0.030078\n",
       "2020-04-27  0.000928\n",
       "2020-04-28  0.000179\n",
       "2020-04-29  0.122677\n",
       "2020-04-30 -0.015687\n",
       "2020-05-01  0.018505\n",
       "2020-05-02  0.020005\n",
       "2020-05-03 -0.008305\n",
       "2020-05-04 -0.001946\n",
       "2020-05-05  0.015320\n",
       "2020-05-06  0.010407\n",
       "2020-05-07  0.091530\n",
       "2020-05-08 -0.021956\n",
       "2020-05-09 -0.024330\n",
       "2020-05-10 -0.085275\n",
       "2020-05-11 -0.024987\n",
       "2020-05-12  0.028997\n",
       "2020-05-13  0.058071\n",
       "2020-05-14  0.050073\n",
       "2020-05-15 -0.050573\n",
       "2020-05-16  0.002363\n",
       "2020-05-17  0.036435\n",
       "2020-05-18  0.003384\n",
       "2020-05-19  0.005195\n",
       "2020-05-20 -0.029683\n",
       "2020-05-21 -0.049494\n",
       "2020-05-22  0.014728\n",
       "2020-05-23 -0.000786\n",
       "2020-05-24 -0.055215\n",
       "2020-05-25  0.024907\n",
       "2020-05-26 -0.006274\n",
       "2020-05-27  0.040282\n",
       "2020-05-28  0.041905\n",
       "2020-05-29 -0.017545\n",
       "2020-05-30  0.026973\n",
       "2020-05-31 -0.026026\n",
       "2020-06-01  0.079090\n",
       "2020-06-02 -0.071325\n",
       "2020-06-03  0.017029\n",
       "2020-06-04  0.013034\n",
       "2020-06-05 -0.023815\n",
       "2020-06-06  0.010025\n",
       "2020-06-07  0.010154\n",
       "2020-06-08  0.007138\n",
       "2020-06-09 -0.005643\n",
       "2020-06-10  0.012256\n",
       "2020-06-11 -0.066888\n",
       "2020-06-12  0.022224\n",
       "2020-06-13  0.001098\n",
       "2020-06-14 -0.017184\n",
       "2020-06-15  0.012960\n",
       "2020-06-16  0.010286\n",
       "2020-06-17 -0.007820\n",
       "2020-06-18 -0.009813\n",
       "2020-06-19 -0.008857\n",
       "2020-06-20  0.008180\n",
       "2020-06-21 -0.008812\n",
       "2020-06-22  0.044393\n",
       "2020-06-23 -0.007987\n",
       "2020-06-24 -0.035930\n",
       "2020-06-25 -0.005537\n",
       "2020-06-26 -0.008224\n",
       "2020-06-27 -0.017180\n",
       "2020-06-28  0.013388\n",
       "2020-06-29  0.007480\n",
       "2020-06-30 -0.006723\n",
       "2020-07-01  0.011936\n",
       "2020-07-02 -0.016429\n",
       "2020-07-03 -0.004244\n",
       "2020-07-04  0.009695\n",
       "2020-07-05 -0.005454\n",
       "2020-07-06  0.026404\n",
       "2020-07-07 -0.007328\n",
       "2020-07-08  0.018445\n",
       "2020-07-09 -0.022022\n",
       "2020-07-10  0.007305\n",
       "2020-07-11 -0.006816\n",
       "2020-07-12  0.008493\n",
       "2020-07-13 -0.009020\n",
       "2020-07-14  0.003051\n",
       "2020-07-15 -0.006918\n",
       "2020-07-16 -0.006941\n",
       "2020-07-17  0.001832\n",
       "2020-07-18  0.002942\n",
       "2020-07-19  0.005122\n",
       "2020-07-20 -0.006591\n",
       "2020-07-21  0.025384\n",
       "2020-07-22  0.015801\n",
       "2020-07-23  0.006863\n",
       "2020-07-24 -0.006119\n",
       "2020-07-25  0.016157\n",
       "2020-07-26  0.023972\n",
       "2020-07-27  0.110678\n",
       "2020-07-28 -0.014105\n",
       "2020-07-29  0.013381\n",
       "2020-07-30  0.003532\n",
       "2020-07-31  0.020708\n",
       "2020-08-01  0.037372\n",
       "2020-08-02 -0.066159\n",
       "2020-08-03  0.016640\n",
       "2020-08-04 -0.003334\n",
       "2020-08-05  0.047058\n",
       "2020-08-06  0.002470\n",
       "2020-08-07 -0.014351\n",
       "2020-08-08  0.015500\n",
       "2020-08-09 -0.007445\n",
       "2020-08-10  0.017248\n",
       "2020-08-11 -0.043745\n",
       "2020-08-12  0.015351\n",
       "2020-08-13  0.022391\n",
       "2020-08-14 -0.003363\n",
       "2020-08-15  0.005836\n",
       "2020-08-16  0.005865\n",
       "2020-08-17  0.033085\n",
       "2020-08-18 -0.028105\n",
       "2020-08-19 -0.018420\n",
       "2020-08-20  0.007742\n",
       "2020-08-21 -0.028221\n",
       "2020-08-22  0.012883\n",
       "2020-08-23 -0.002208\n",
       "2020-08-24  0.009594\n",
       "2020-08-25 -0.037903\n",
       "2020-08-26  0.011863\n",
       "2020-08-27 -0.010375\n",
       "2020-08-28  0.017330\n",
       "2020-08-29 -0.006210\n",
       "2020-08-30  0.022113\n",
       "2020-08-31 -0.005050\n",
       "2020-09-01  0.020852\n",
       "2020-09-02 -0.044778\n",
       "2020-09-03 -0.107830\n",
       "2020-09-05 -0.007150\n",
       "2020-09-06  0.010019\n",
       "2020-09-07  0.013044\n",
       "2020-09-08 -0.025999\n",
       "2020-09-09  0.010982\n",
       "2020-09-10  0.010782\n",
       "2020-09-11  0.005210\n",
       "2020-09-12  0.004224\n",
       "2020-09-13 -0.010369\n",
       "2020-09-14  0.032650\n",
       "2020-09-15  0.010291\n",
       "2020-09-16  0.015047\n",
       "2020-09-17 -0.000507\n",
       "2020-09-18 -0.000514\n",
       "2020-09-19  0.012093\n",
       "2020-09-20 -0.014895\n",
       "2020-09-21 -0.045537\n",
       "2020-09-22  0.009846\n",
       "2020-09-23 -0.028799\n",
       "2020-09-24  0.048733\n",
       "2020-09-25 -0.004451\n",
       "2020-09-26  0.003448\n",
       "2020-09-27  0.005757\n",
       "2020-09-28 -0.010354\n",
       "2020-09-29  0.015320\n",
       "2020-09-30 -0.005794\n",
       "2020-10-01 -0.017267\n",
       "2020-10-02 -0.001957\n",
       "2020-10-03 -0.003097\n",
       "2020-10-04  0.011048\n",
       "2020-10-05  0.012826\n",
       "2020-10-06 -0.019244\n",
       "2020-10-07  0.007249\n",
       "2020-10-08  0.023659\n",
       "2020-10-09  0.012061\n",
       "2020-10-10  0.021846\n",
       "2020-10-11  0.005900\n",
       "2020-10-12  0.014353\n",
       "2020-10-13 -0.008748\n",
       "2020-10-14 -0.000655\n",
       "2020-10-15  0.007183\n",
       "2020-10-16 -0.015756\n",
       "2020-10-17  0.003228\n",
       "2020-10-18  0.013163\n",
       "2020-10-19  0.021351\n",
       "2020-10-20  0.012858\n",
       "2020-10-21  0.074288\n",
       "2020-10-22  0.010898\n",
       "2020-10-23 -0.002623\n",
       "2020-10-24  0.013647\n",
       "2020-10-25 -0.005391\n",
       "2020-10-26  0.001733\n",
       "2020-10-27  0.046718\n",
       "2020-10-28 -0.031004\n",
       "2020-10-29  0.013463\n",
       "2020-10-30  0.009094\n",
       "2020-10-31  0.011860\n",
       "2020-11-01  0.002870\n",
       "2020-11-02 -0.015395\n",
       "2020-11-03  0.034513\n",
       "2020-11-04  0.007757\n",
       "2020-11-05  0.099193\n",
       "2020-11-06 -0.002579\n",
       "2020-11-07 -0.051421\n",
       "2020-11-08  0.044443\n",
       "2020-11-09 -0.009961\n",
       "2020-11-10 -0.000595\n",
       "2020-11-11  0.025674\n",
       "2020-11-12  0.037198\n",
       "2020-11-13  0.001217\n",
       "2020-11-14 -0.015188\n",
       "2020-11-15 -0.009155\n",
       "2020-11-16  0.047033\n",
       "2020-11-17  0.055072\n",
       "2020-11-18  0.008004\n",
       "2020-11-19  0.000091\n",
       "2020-11-20  0.049229\n",
       "2020-11-21  0.000389\n",
       "2020-11-22 -0.012513\n",
       "2020-11-23 -0.004680\n",
       "2020-11-24  0.042260\n",
       "2020-11-25 -0.025280\n",
       "2020-11-26 -0.085514\n",
       "2020-11-27 -0.000933\n",
       "2020-11-28  0.032192\n",
       "2020-11-29  0.028938\n",
       "2020-11-30  0.078452\n",
       "2020-12-01 -0.050083\n",
       "2020-12-02  0.025377\n",
       "2020-12-03  0.009539\n",
       "2020-12-04 -0.038709\n",
       "2020-12-05  0.024546\n",
       "2020-12-06  0.012464\n",
       "2020-12-07 -0.010062\n",
       "2020-12-08 -0.047517\n",
       "2020-12-09  0.012927\n",
       "2020-12-10 -0.014291\n",
       "2020-12-11 -0.013137\n",
       "2020-12-12  0.042215\n",
       "2020-12-13  0.016159\n",
       "2020-12-14  0.008089\n",
       "2020-12-15  0.008411\n",
       "2020-12-16  0.094756\n",
       "2020-12-17  0.065418\n",
       "2020-12-18  0.014736\n",
       "2020-12-19  0.027485\n",
       "2020-12-20 -0.015370\n",
       "2020-12-21 -0.029179\n",
       "2020-12-22  0.045602\n",
       "2020-12-23 -0.027360\n",
       "2020-12-24  0.023157\n",
       "2020-12-25  0.041115\n",
       "2020-12-26  0.069589\n",
       "2020-12-27 -0.007534\n",
       "2020-12-28  0.027139\n",
       "2020-12-29  0.013359\n",
       "2020-12-30  0.054207\n",
       "2020-12-31  0.003189\n",
       "2021-01-01  0.012466\n",
       "2021-01-02  0.092663\n",
       "2021-01-03  0.027208\n",
       "2021-01-04 -0.030857\n",
       "2021-01-05  0.060506\n",
       "2021-01-06  0.080159\n",
       "2021-01-07  0.067785\n",
       "2021-01-08  0.027253\n",
       "2021-01-09 -0.007910\n",
       "2021-01-10 -0.053565\n",
       "2021-01-11 -0.075126\n",
       "2021-01-12 -0.043377\n",
       "2021-01-13  0.099460\n",
       "2021-01-14  0.043048\n",
       "2021-01-15 -0.060585\n",
       "2021-01-16 -0.027468\n",
       "2021-01-17  0.001718\n",
       "2021-01-18  0.022968\n",
       "2021-01-19 -0.030178\n",
       "2021-01-20 -0.002880\n",
       "2021-01-21 -0.148972\n",
       "2021-01-22  0.070489\n",
       "2021-01-23 -0.026630\n",
       "2021-01-24  0.007116\n",
       "2021-01-25 -0.008439\n",
       "2021-01-26  0.018614\n",
       "2021-01-27 -0.064261\n",
       "2021-01-28  0.091659\n",
       "2021-01-29  0.024932\n",
       "2021-01-30 -0.002943\n",
       "2021-01-31 -0.034270\n",
       "2021-02-01  0.011468\n",
       "2021-02-02  0.059566\n",
       "2021-02-03  0.061655\n",
       "2021-02-04 -0.018668\n",
       "2021-02-05  0.034623\n",
       "2021-02-06  0.015992\n",
       "2021-02-07 -0.002742\n",
       "2021-02-08  0.182492\n",
       "2021-02-09 -0.001694\n",
       "2021-02-10 -0.037348\n",
       "2021-02-11  0.069564\n",
       "2021-02-12 -0.012480\n",
       "2021-02-13 -0.005273\n",
       "2021-02-14  0.029781\n",
       "2021-02-15 -0.016383\n",
       "2021-02-16  0.027693\n",
       "2021-02-17  0.059363\n",
       "2021-02-18 -0.012042\n",
       "2021-02-19  0.081501\n",
       "2021-02-20 -0.001240\n",
       "2021-02-21  0.027816\n",
       "2021-02-22 -0.061059\n",
       "2021-02-23 -0.100144\n",
       "2021-02-24  0.016563\n",
       "2021-02-25 -0.059205\n",
       "2021-02-26 -0.012168\n",
       "2021-02-27 -0.008374\n",
       "2021-02-28 -0.013606\n",
       "2021-03-01  0.090582\n",
       "2021-03-02 -0.026200\n",
       "2021-03-03  0.036468\n",
       "2021-03-04 -0.037313\n",
       "2021-03-05  0.011944\n",
       "2021-03-06  0.001609\n",
       "2021-03-07  0.037492\n",
       "2021-03-08  0.031247"
      ]
     },
     "metadata": {},
     "output_type": "display_data"
    }
   ],
   "source": [
    "round(logret,6) # inorder to avoid exponential value"
   ]
  },
  {
   "cell_type": "code",
   "execution_count": 10,
   "metadata": {},
   "outputs": [
    {
     "data": {
      "text/plain": [
       "                  TR\n",
       "2020-01-01  0.002279\n",
       "2020-01-02 -0.031963\n",
       "2020-01-03  0.056232"
      ]
     },
     "metadata": {},
     "output_type": "display_data"
    }
   ],
   "source": [
    "# Now Calculate the discreet Return from the formula of exp.\n",
    "ret <- exp(logret)-1  #To go from log return to simple return,\n",
    "round(head(ret,3),6)"
   ]
  },
  {
   "cell_type": "code",
   "execution_count": 11,
   "metadata": {},
   "outputs": [
    {
     "data": {
      "image/png": "[encoded data removed]",
      "text/plain": [
       "plot without title"
      ]
     },
     "metadata": {},
     "output_type": "display_data"
    }
   ],
   "source": [
    "plot(ret)"
   ]
  },
  {
   "cell_type": "code",
   "execution_count": 12,
   "metadata": {},
   "outputs": [
    {
     "data": {
      "text/plain": [
       "                 TR\n",
       "2020-01-05 43315.07\n",
       "2020-01-12 56171.73\n",
       "2020-01-19 60913.10"
      ]
     },
     "metadata": {},
     "output_type": "display_data"
    }
   ],
   "source": [
    "# Weekly log-return\n",
    "\n",
    "logret_w <- apply.weekly(BTC1,sum)\n",
    "\n",
    "round(head(logret_w,3),6)"
   ]
  },
  {
   "cell_type": "code",
   "execution_count": 13,
   "metadata": {},
   "outputs": [
    {
     "data": {
      "image/png": "[encoded data removed]",
      "text/plain": [
       "plot without title"
      ]
     },
     "metadata": {},
     "output_type": "display_data"
    }
   ],
   "source": [
    "plot(logret_w)"
   ]
  },
  {
   "cell_type": "code",
   "execution_count": 14,
   "metadata": {},
   "outputs": [
    {
     "data": {
      "text/plain": [
       "            TR\n",
       "2021-02-28 Inf\n",
       "2021-03-07 Inf\n",
       "2021-03-08 Inf"
      ]
     },
     "metadata": {},
     "output_type": "display_data"
    }
   ],
   "source": [
    "# Calculate discrete return from log-return\n",
    "\n",
    "ret_w <- exp(logret_w)-1\n",
    "\n",
    "round(tail(ret_w,3),6)"
   ]
  },
  {
   "cell_type": "code",
   "execution_count": 15,
   "metadata": {},
   "outputs": [
    {
     "data": {
      "text/plain": [
       "                  TR\n",
       "2019-12-31   7158.01\n",
       "2020-01-31 259446.88\n",
       "2020-02-29 279586.28"
      ]
     },
     "metadata": {},
     "output_type": "display_data"
    }
   ],
   "source": [
    "#monthly\n",
    "logret_w1 <- apply.monthly(BTC1,sum)\n",
    "\n",
    "round(head(logret_w1,3),6)"
   ]
  },
  {
   "cell_type": "code",
   "execution_count": 16,
   "metadata": {},
   "outputs": [
    {
     "data": {
      "image/png": "[encoded data removed]",
      "text/plain": [
       "plot without title"
      ]
     },
     "metadata": {},
     "output_type": "display_data"
    }
   ],
   "source": [
    "plot(logret_w1)"
   ]
  },
  {
   "cell_type": "code",
   "execution_count": 17,
   "metadata": {},
   "outputs": [
    {
     "data": {
      "text/html": [
       "0.00461125"
      ],
      "text/latex": [
       "0.00461125"
      ],
      "text/markdown": [
       "0.00461125"
      ],
      "text/plain": [
       "[1] 0.00461125"
      ]
     },
     "metadata": {},
     "output_type": "display_data"
    },
    {
     "data": {
      "text/html": [
       "0.04340242"
      ],
      "text/latex": [
       "0.04340242"
      ],
      "text/markdown": [
       "0.04340242"
      ],
      "text/plain": [
       "[1] 0.04340242"
      ]
     },
     "metadata": {},
     "output_type": "display_data"
    }
   ],
   "source": [
    "# Distribution of returns\n",
    "# ESTIMATE U -using sample mean  and sigma using std. deviation\n",
    "\n",
    "mu <- round(mean(logret),8)\n",
    "\n",
    "sig <- round(sd(logret),8)\n",
    "\n",
    "mu\n",
    "sig"
   ]
  },
  {
   "cell_type": "code",
   "execution_count": 18,
   "metadata": {},
   "outputs": [
    {
     "data": {
      "text/html": [
       "-0.066779"
      ],
      "text/latex": [
       "-0.066779"
      ],
      "text/markdown": [
       "-0.066779"
      ],
      "text/plain": [
       "[1] -0.066779"
      ]
     },
     "metadata": {},
     "output_type": "display_data"
    }
   ],
   "source": [
    "round(qnorm(0.05,mu,sig),6)   # quantile for the normal distribution  # VAR value is -6.6%"
   ]
  },
  {
   "cell_type": "code",
   "execution_count": 19,
   "metadata": {},
   "outputs": [
    {
     "data": {
      "text/html": [
       "-6677900000"
      ],
      "text/latex": [
       "-6677900000"
      ],
      "text/markdown": [
       "-6677900000"
      ],
      "text/plain": [
       "[1] -6677900000"
      ]
     },
     "metadata": {},
     "output_type": "display_data"
    }
   ],
   "source": [
    "# in an 100 billion portfolio investment VAR is\n",
    "-0.066779 * 100000000000"
   ]
  },
  {
   "cell_type": "code",
   "execution_count": 20,
   "metadata": {},
   "outputs": [
    {
     "data": {
      "text/html": [
       "-0.0849154776108165"
      ],
      "text/latex": [
       "-0.0849154776108165"
      ],
      "text/markdown": [
       "-0.0849154776108165"
      ],
      "text/plain": [
       "[1] -0.08491548"
      ]
     },
     "metadata": {},
     "output_type": "display_data"
    }
   ],
   "source": [
    "# Calculating 1-day 95% Expected Shortfall for alpha = 0.05\n",
    "es <- mu-sig*dnorm(qnorm(0.05,0,1),0,1)/0.05\n",
    "es\n",
    "# It means if the log-return is worse than -6.6% then the avg. loss is abt 8.4%"
   ]
  },
  {
   "cell_type": "code",
   "execution_count": 21,
   "metadata": {},
   "outputs": [
    {
     "data": {
      "text/html": [
       "<strong>5%:</strong> -0.067148"
      ],
      "text/latex": [
       "\\textbf{5\\textbackslash{}\\%:} -0.067148"
      ],
      "text/markdown": [
       "**5%:** -0.067148"
      ],
      "text/plain": [
       "       5% \n",
       "-0.067148 "
      ]
     },
     "metadata": {},
     "output_type": "display_data"
    },
    {
     "data": {
      "text/html": [
       "-0.085776"
      ],
      "text/latex": [
       "-0.085776"
      ],
      "text/markdown": [
       "-0.085776"
      ],
      "text/plain": [
       "[1] -0.085776"
      ]
     },
     "metadata": {},
     "output_type": "display_data"
    }
   ],
   "source": [
    "# Draw 100,000 outcomes from the N(mu,sig) distribution\n",
    "alpha <- 0.05\n",
    "set.seed(123789)    #seed value tells the computer where to start the sequence # if i do not set , then each time i get diff.set\n",
    "\n",
    "rvec <- rnorm(100000,mu,sig)# Get a 100000 rando no.s from a random distribution   # So the result wld be different everytime\n",
    "\n",
    "VAR <- quantile(rvec,alpha)\n",
    "\n",
    "ES <- mean(rvec[rvec<VAR])\n",
    "\n",
    "round(VAR,6)\n",
    "\n",
    "round(ES,6)\n",
    "# Simulation method will not give us the exact correct value as it takes an assumption on the mean and std.-deviation"
   ]
  },
  {
   "cell_type": "markdown",
   "metadata": {},
   "source": [
    "### Non-Normal Distribution\n",
    "\n",
    "## As skewness and Kurtosis has an effect on VAR & ES"
   ]
  },
  {
   "cell_type": "code",
   "execution_count": 22,
   "metadata": {},
   "outputs": [
    {
     "name": "stdout",
     "output_type": "stream",
     "text": [
      "package 'moments' successfully unpacked and MD5 sums checked\n",
      "\n",
      "The downloaded binary packages are in\n",
      "\tC:\\Users\\HP\\AppData\\Local\\Temp\\RtmpiC9ObS\\downloaded_packages\n"
     ]
    }
   ],
   "source": [
    "install.packages('moments')\n",
    "library(moments)"
   ]
  },
  {
   "cell_type": "code",
   "execution_count": 23,
   "metadata": {},
   "outputs": [
    {
     "data": {
      "text/html": [
       "-2.72"
      ],
      "text/latex": [
       "-2.72"
      ],
      "text/markdown": [
       "-2.72"
      ],
      "text/plain": [
       "[1] -2.72"
      ]
     },
     "metadata": {},
     "output_type": "display_data"
    }
   ],
   "source": [
    "rvec <- as.vector(logret) # Converting into vector\n",
    "round(skewness(rvec),2) # So left-skewed"
   ]
  },
  {
   "cell_type": "code",
   "execution_count": 24,
   "metadata": {},
   "outputs": [
    {
     "data": {
      "text/html": [
       "35.89"
      ],
      "text/latex": [
       "35.89"
      ],
      "text/markdown": [
       "35.89"
      ],
      "text/plain": [
       "[1] 35.89"
      ]
     },
     "metadata": {},
     "output_type": "display_data"
    }
   ],
   "source": [
    "# If a distribution has fatter tails = Leptokurtic\n",
    "# # If a distribution has Thinner tails = Platykurtic\n",
    "rvec <- as.vector(logret)\n",
    "round(kurtosis(rvec),2) #Heavy Tailed as it is > than 3 | Normal if = 3 |  < 3 - for thin tailed test"
   ]
  },
  {
   "cell_type": "code",
   "execution_count": 25,
   "metadata": {},
   "outputs": [
    {
     "data": {
      "text/plain": [
       "\n",
       "\tJarque-Bera Normality Test\n",
       "\n",
       "data:  rvec\n",
       "JB = 20004, p-value < 2.2e-16\n",
       "alternative hypothesis: greater\n"
      ]
     },
     "metadata": {},
     "output_type": "display_data"
    }
   ],
   "source": [
    "# Jarque Bera test for normality\n",
    "\n",
    "rvec <- as.vector(logret)\n",
    "jarque.test(rvec)  # i.e reject normality"
   ]
  },
  {
   "cell_type": "markdown",
   "metadata": {},
   "source": [
    "### The objective of the class is - How to re-scale the t-distribution with U , STD. dev , Kurtosis , skewness, d.o.f.\n",
    "\n",
    "### To match the original distribution of the data\n",
    "\n",
    "### It provides accurate VAR & Es for our data"
   ]
  },
  {
   "cell_type": "code",
   "execution_count": 26,
   "metadata": {},
   "outputs": [],
   "source": [
    "## Re-scaledt-distribution model\n",
    "# We use M-L method\n",
    "# Use the fit-distribution function"
   ]
  },
  {
   "cell_type": "code",
   "execution_count": 27,
   "metadata": {},
   "outputs": [
    {
     "name": "stderr",
     "output_type": "stream",
     "text": [
      "Warning message:\n",
      "\"package 'MASS' was built under R version 3.6.3\""
     ]
    }
   ],
   "source": [
    "library(MASS)"
   ]
  },
  {
   "cell_type": "code",
   "execution_count": 28,
   "metadata": {},
   "outputs": [
    {
     "name": "stderr",
     "output_type": "stream",
     "text": [
      "Warning message in dt((x - m)/s, df, log = TRUE):\n",
      "\"NaNs produced\"Warning message in log(s):\n",
      "\"NaNs produced\"Warning message in log(s):\n",
      "\"NaNs produced\"Warning message in log(s):\n",
      "\"NaNs produced\"Warning message in log(s):\n",
      "\"NaNs produced\"Warning message in log(s):\n",
      "\"NaNs produced\"Warning message in log(s):\n",
      "\"NaNs produced\"Warning message in log(s):\n",
      "\"NaNs produced\"Warning message in log(s):\n",
      "\"NaNs produced\"Warning message in log(s):\n",
      "\"NaNs produced\"Warning message in log(s):\n",
      "\"NaNs produced\"Warning message in log(s):\n",
      "\"NaNs produced\"Warning message in log(s):\n",
      "\"NaNs produced\"Warning message in log(s):\n",
      "\"NaNs produced\"Warning message in log(s):\n",
      "\"NaNs produced\"Warning message in log(s):\n",
      "\"NaNs produced\"Warning message in log(s):\n",
      "\"NaNs produced\"Warning message in dt((x - m)/s, df, log = TRUE):\n",
      "\"NaNs produced\""
     ]
    },
    {
     "data": {
      "text/html": [
       "<dl class=dl-horizontal>\n",
       "\t<dt>m</dt>\n",
       "\t\t<dd>0.003795</dd>\n",
       "\t<dt>s</dt>\n",
       "\t\t<dd>0.022434</dd>\n",
       "\t<dt>df</dt>\n",
       "\t\t<dd>2.420263</dd>\n",
       "</dl>\n"
      ],
      "text/latex": [
       "\\begin{description*}\n",
       "\\item[m] 0.003795\n",
       "\\item[s] 0.022434\n",
       "\\item[df] 2.420263\n",
       "\\end{description*}\n"
      ],
      "text/markdown": [
       "m\n",
       ":   0.003795s\n",
       ":   0.022434df\n",
       ":   2.420263\n",
       "\n"
      ],
      "text/plain": [
       "       m        s       df \n",
       "0.003795 0.022434 2.420263 "
      ]
     },
     "metadata": {},
     "output_type": "display_data"
    }
   ],
   "source": [
    "rvec <- as.vector(logret) #Using ML method and finding the best parameters\n",
    "t.fit <- fitdistr(rvec,\"t\")\n",
    "round(t.fit$estimate,6)"
   ]
  },
  {
   "cell_type": "code",
   "execution_count": 29,
   "metadata": {},
   "outputs": [
    {
     "name": "stdout",
     "output_type": "stream",
     "text": [
      "package 'metRology' successfully unpacked and MD5 sums checked\n",
      "\n",
      "The downloaded binary packages are in\n",
      "\tC:\\Users\\HP\\AppData\\Local\\Temp\\RtmpiC9ObS\\downloaded_packages\n"
     ]
    },
    {
     "name": "stderr",
     "output_type": "stream",
     "text": [
      "Warning message:\n",
      "\"package 'metRology' was built under R version 3.6.3\"\n",
      "Attaching package: 'metRology'\n",
      "\n",
      "The following objects are masked from 'package:base':\n",
      "\n",
      "    cbind, rbind\n",
      "\n"
     ]
    },
    {
     "data": {
      "text/html": [
       "<strong>5%:</strong> -0.054271"
      ],
      "text/latex": [
       "\\textbf{5\\textbackslash{}\\%:} -0.054271"
      ],
      "text/markdown": [
       "**5%:** -0.054271"
      ],
      "text/plain": [
       "       5% \n",
       "-0.054271 "
      ]
     },
     "metadata": {},
     "output_type": "display_data"
    },
    {
     "data": {
      "text/html": [
       "-0.101928"
      ],
      "text/latex": [
       "-0.101928"
      ],
      "text/markdown": [
       "-0.101928"
      ],
      "text/plain": [
       "[1] -0.101928"
      ]
     },
     "metadata": {},
     "output_type": "display_data"
    }
   ],
   "source": [
    "# Estimating VAR and ES for student-t distribution with the above parameters\n",
    "alpha <- 0.05\n",
    "set.seed(123789)\n",
    "install.packages('metRology')\n",
    "library(metRology)\n",
    "rvec <- rt.scaled(100000,mean=t.fit$estimate[1],sd=t.fit$estimate[2],df=t.fit$estimate[3])\n",
    "# We use rt.scaled fx to simulate data from the re-scaled t-distribution using the estimated parameters\n",
    "# fIRST argument is- The no. of outcomes we want in our simulation\n",
    "VAR <- quantile(rvec,alpha)\n",
    "ES <- mean(rvec[rvec<VAR])\n",
    "round(VAR,6)\n",
    "\n",
    "round(ES,6)"
   ]
  },
  {
   "cell_type": "code",
   "execution_count": 30,
   "metadata": {},
   "outputs": [
    {
     "data": {
      "text/html": [
       "<strong>5%:</strong> -0.162069099464571"
      ],
      "text/latex": [
       "\\textbf{5\\textbackslash{}\\%:} -0.162069099464571"
      ],
      "text/markdown": [
       "**5%:** -0.162069099464571"
      ],
      "text/plain": [
       "        5% \n",
       "-0.1620691 "
      ]
     },
     "metadata": {},
     "output_type": "display_data"
    },
    {
     "data": {
      "text/html": [
       "-0.307506502917424"
      ],
      "text/latex": [
       "-0.307506502917424"
      ],
      "text/markdown": [
       "-0.307506502917424"
      ],
      "text/plain": [
       "[1] -0.3075065"
      ]
     },
     "metadata": {},
     "output_type": "display_data"
    }
   ],
   "source": [
    "# Method - B - IID simulation from empirical distribution - simulating from the actual data\n",
    "alpha <- 0.05\n",
    "set.seed(123789)\n",
    "library(metRology)\n",
    "rvec <- rep(0,100000)\n",
    "for (i in 1:10){\n",
    "    rvec <- rvec+sample(as.vector(logret),100000,replace=TRUE)\n",
    "}\n",
    "VAR <- quantile(rvec,alpha)\n",
    "ES <- mean(rvec[rvec<VAR])\n",
    "\n",
    "VAR\n",
    "ES"
   ]
  },
  {
   "cell_type": "code",
   "execution_count": 31,
   "metadata": {},
   "outputs": [
    {
     "data": {
      "text/html": [
       "<strong>5%:</strong> -0.129916449013665"
      ],
      "text/latex": [
       "\\textbf{5\\textbackslash{}\\%:} -0.129916449013665"
      ],
      "text/markdown": [
       "**5%:** -0.129916449013665"
      ],
      "text/plain": [
       "        5% \n",
       "-0.1299164 "
      ]
     },
     "metadata": {},
     "output_type": "display_data"
    },
    {
     "data": {
      "text/html": [
       "-0.286824819891952"
      ],
      "text/latex": [
       "-0.286824819891952"
      ],
      "text/markdown": [
       "-0.286824819891952"
      ],
      "text/plain": [
       "[1] -0.2868248"
      ]
     },
     "metadata": {},
     "output_type": "display_data"
    }
   ],
   "source": [
    "# Method C - Block simulation from empirical distribution\n",
    "# randomly pick a block of 10 consecutive 1-day log-returns from the actual data.Add them up to get a 10-day log-return\n",
    "alpha <- 0.05\n",
    "set.seed(123789)\n",
    "rvec <- rep(0,100000)\n",
    "rdat <- as.vector(logret)\n",
    "posn <- seq(from=1,to=length(rdat)-9,by=1)\n",
    "rpos <- sample(posn,100000,replace=TRUE)\n",
    "for (i in 1:10){\n",
    "    rvec <- rvec+rdat[rpos]\n",
    "    rpos <- rpos+1\n",
    "}\n",
    "\n",
    "VAR <- quantile(rvec,alpha)\n",
    "ES <- mean(rvec[rvec<VAR])\n",
    "\n",
    "VAR\n",
    "ES"
   ]
  },
  {
   "cell_type": "code",
   "execution_count": 32,
   "metadata": {},
   "outputs": [],
   "source": [
    "# If there is some important time-dependence in our data then method B & C may give different answers"
   ]
  },
  {
   "cell_type": "code",
   "execution_count": 33,
   "metadata": {},
   "outputs": [
    {
     "data": {
      "image/png": "[encoded data removed]",
      "text/plain": [
       "Plot with title \"Series  logret\""
      ]
     },
     "metadata": {},
     "output_type": "display_data"
    }
   ],
   "source": [
    "# Auto-correlation f(x) of logret\n",
    "acf(logret) # dashed lines - 95% confidence band for the acf around 0 - As if it is outside the band - then there is significant\n",
    "# Serial correlation"
   ]
  },
  {
   "cell_type": "code",
   "execution_count": 34,
   "metadata": {},
   "outputs": [
    {
     "data": {
      "image/png": "[encoded data removed]",
      "text/plain": [
       "Plot with title \"Series  abs(logret)\""
      ]
     },
     "metadata": {},
     "output_type": "display_data"
    }
   ],
   "source": [
    "# Volatility Clustering\n",
    "# ACF for NTC daily log-returns\n",
    "acf(abs(logret)) # absolute value"
   ]
  },
  {
   "cell_type": "code",
   "execution_count": 35,
   "metadata": {},
   "outputs": [],
   "source": [
    "#Volatilility which is the standard deviation of log-returns"
   ]
  },
  {
   "cell_type": "code",
   "execution_count": 37,
   "metadata": {},
   "outputs": [
    {
     "name": "stderr",
     "output_type": "stream",
     "text": [
      "Warning message:\n",
      "\"package 'rugarch' was built under R version 3.6.3\"Loading required package: parallel\n",
      "\n",
      "Attaching package: 'rugarch'\n",
      "\n",
      "The following object is masked from 'package:stats':\n",
      "\n",
      "    sigma\n",
      "\n"
     ]
    }
   ],
   "source": [
    "library(rugarch)"
   ]
  },
  {
   "cell_type": "code",
   "execution_count": 38,
   "metadata": {},
   "outputs": [],
   "source": [
    "garch.N <- ugarchspec(variance.model = list(model = \"sGARCH\",garchOrder = c(1,1)),\n",
    "                     mean.model = list(armaOrder = c(0,0),include.mean = TRUE),\n",
    "                     distribution.model = \"norm\")\n",
    "# saving the model as garch.N"
   ]
  },
  {
   "cell_type": "code",
   "execution_count": 39,
   "metadata": {},
   "outputs": [],
   "source": [
    "fit.garch.N <- ugarchfit(spec = garch.N,data = logret)"
   ]
  },
  {
   "cell_type": "code",
   "execution_count": 40,
   "metadata": {},
   "outputs": [
    {
     "data": {
      "text/plain": [
       "\n",
       "*---------------------------------*\n",
       "*          GARCH Model Fit        *\n",
       "*---------------------------------*\n",
       "\n",
       "Conditional Variance Dynamics \t\n",
       "-----------------------------------\n",
       "GARCH Model\t: sGARCH(1,1)\n",
       "Mean Model\t: ARFIMA(0,0,0)\n",
       "Distribution\t: norm \n",
       "\n",
       "Optimal Parameters\n",
       "------------------------------------\n",
       "        Estimate  Std. Error  t value Pr(>|t|)\n",
       "mu      0.006576    0.001811   3.6302 0.000283\n",
       "omega   0.000075    0.000030   2.5173 0.011826\n",
       "alpha1  0.140402    0.039036   3.5968 0.000322\n",
       "beta1   0.858549    0.027714  30.9786 0.000000\n",
       "\n",
       "Robust Standard Errors:\n",
       "        Estimate  Std. Error  t value Pr(>|t|)\n",
       "mu      0.006576    0.002502   2.6280 0.008588\n",
       "omega   0.000075    0.000055   1.3609 0.173531\n",
       "alpha1  0.140402    0.139710   1.0050 0.314921\n",
       "beta1   0.858549    0.049987  17.1754 0.000000\n",
       "\n",
       "LogLikelihood : 757.5102 \n",
       "\n",
       "Information Criteria\n",
       "------------------------------------\n",
       "                    \n",
       "Akaike       -3.4885\n",
       "Bayes        -3.4508\n",
       "Shibata      -3.4886\n",
       "Hannan-Quinn -3.4736\n",
       "\n",
       "Weighted Ljung-Box Test on Standardized Residuals\n",
       "------------------------------------\n",
       "                        statistic p-value\n",
       "Lag[1]                     0.7135  0.3983\n",
       "Lag[2*(p+q)+(p+q)-1][2]    1.0586  0.4796\n",
       "Lag[4*(p+q)+(p+q)-1][5]    2.4489  0.5168\n",
       "d.o.f=0\n",
       "H0 : No serial correlation\n",
       "\n",
       "Weighted Ljung-Box Test on Standardized Squared Residuals\n",
       "------------------------------------\n",
       "                        statistic p-value\n",
       "Lag[1]                    0.08055  0.7765\n",
       "Lag[2*(p+q)+(p+q)-1][5]   0.66065  0.9303\n",
       "Lag[4*(p+q)+(p+q)-1][9]   1.01157  0.9858\n",
       "d.o.f=2\n",
       "\n",
       "Weighted ARCH LM Tests\n",
       "------------------------------------\n",
       "            Statistic Shape Scale P-Value\n",
       "ARCH Lag[3]    0.1218 0.500 2.000  0.7271\n",
       "ARCH Lag[5]    0.8995 1.440 1.667  0.7630\n",
       "ARCH Lag[7]    0.9919 2.315 1.543  0.9149\n",
       "\n",
       "Nyblom stability test\n",
       "------------------------------------\n",
       "Joint Statistic:  1.0953\n",
       "Individual Statistics:             \n",
       "mu     0.1300\n",
       "omega  0.1317\n",
       "alpha1 0.1121\n",
       "beta1  0.0935\n",
       "\n",
       "Asymptotic Critical Values (10% 5% 1%)\n",
       "Joint Statistic:     \t 1.07 1.24 1.6\n",
       "Individual Statistic:\t 0.35 0.47 0.75\n",
       "\n",
       "Sign Bias Test\n",
       "------------------------------------\n",
       "                     t-value   prob sig\n",
       "Sign Bias          1.6220851 0.1055    \n",
       "Negative Sign Bias 0.0002127 0.9998    \n",
       "Positive Sign Bias 1.6345402 0.1029    \n",
       "Joint Effect       3.6442628 0.3025    \n",
       "\n",
       "\n",
       "Adjusted Pearson Goodness-of-Fit Test:\n",
       "------------------------------------\n",
       "  group statistic p-value(g-1)\n",
       "1    20     105.7    4.942e-14\n",
       "2    30     112.3    9.607e-12\n",
       "3    40     123.7    9.548e-11\n",
       "4    50     129.1    3.872e-09\n",
       "\n",
       "\n",
       "Elapsed time : 0.212971 \n"
      ]
     },
     "metadata": {},
     "output_type": "display_data"
    }
   ],
   "source": [
    "fit.garch.N  # Output of estimation"
   ]
  },
  {
   "cell_type": "code",
   "execution_count": 41,
   "metadata": {},
   "outputs": [],
   "source": [
    "# save Fitted Values \n",
    "save1 <- cbind(logret,fit.garch.N@fit$sigma,fit.garch.N@fit$z)\n",
    "names(save1) <- c(\"logret\",\"s\",\"z\")\n",
    "# we are adding 3 columns logret +  fitted values of sqr root of fitted values of ht\n",
    "# + Fitted values of et"
   ]
  },
  {
   "cell_type": "code",
   "execution_count": 42,
   "metadata": {},
   "outputs": [
    {
     "data": {
      "text/plain": [
       "                  logret          s           z\n",
       "2020-01-01  0.0022759743 0.04339664 -0.09907951\n",
       "2020-01-02 -0.0324845675 0.04116390 -0.94889595\n",
       "2020-01-03  0.0547076124 0.04176107  1.15255470\n",
       "2020-01-04  0.0024453618 0.04356096 -0.09481725\n",
       "2020-01-05 -0.0006543243 0.04131022 -0.17501764\n",
       "2020-01-06  0.0561958745 0.03933796  1.26138173"
      ]
     },
     "metadata": {},
     "output_type": "display_data"
    }
   ],
   "source": [
    "head(save1)"
   ]
  },
  {
   "cell_type": "code",
   "execution_count": 43,
   "metadata": {},
   "outputs": [
    {
     "data": {
      "text/html": [
       "-0.05157393"
      ],
      "text/latex": [
       "-0.05157393"
      ],
      "text/markdown": [
       "-0.05157393"
      ],
      "text/plain": [
       "[1] -0.05157393"
      ]
     },
     "metadata": {},
     "output_type": "display_data"
    },
    {
     "data": {
      "text/html": [
       "0.99639225"
      ],
      "text/latex": [
       "0.99639225"
      ],
      "text/markdown": [
       "0.99639225"
      ],
      "text/plain": [
       "[1] 0.9963922"
      ]
     },
     "metadata": {},
     "output_type": "display_data"
    }
   ],
   "source": [
    "#Diagnostic test for the neww fitted et\n",
    "# Distribution of returns\n",
    "# ESTIMATE U -using sample mean  and sigma using std. deviation\n",
    "\n",
    "mu <- round(mean(save1$z),8)\n",
    "\n",
    "sig <- round(sd(save1$z),8)\n",
    "\n",
    "mu\n",
    "sig"
   ]
  },
  {
   "cell_type": "code",
   "execution_count": 44,
   "metadata": {},
   "outputs": [
    {
     "data": {
      "text/html": [
       "-2.43"
      ],
      "text/latex": [
       "-2.43"
      ],
      "text/markdown": [
       "-2.43"
      ],
      "text/plain": [
       "[1] -2.43"
      ]
     },
     "metadata": {},
     "output_type": "display_data"
    }
   ],
   "source": [
    "rvec <- as.vector(save1$z) # Converting into vector\n",
    "round(skewness(rvec),2) # So left-skewed\n"
   ]
  },
  {
   "cell_type": "code",
   "execution_count": 45,
   "metadata": {},
   "outputs": [
    {
     "data": {
      "text/html": [
       "33.26"
      ],
      "text/latex": [
       "33.26"
      ],
      "text/markdown": [
       "33.26"
      ],
      "text/plain": [
       "[1] 33.26"
      ]
     },
     "metadata": {},
     "output_type": "display_data"
    }
   ],
   "source": [
    "# If a distribution has fatter tails = Leptokurtic\n",
    "# # If a distribution has Thinner tails = Platykurtic\n",
    "rvec <- as.vector(save1$z)\n",
    "round(kurtosis(rvec),2) #Heavy Tailed as it is > than 3 | Normal if = 3 |  < 3 - for thin tailed test"
   ]
  },
  {
   "cell_type": "code",
   "execution_count": 46,
   "metadata": {},
   "outputs": [
    {
     "data": {
      "text/plain": [
       "\n",
       "\tJarque-Bera Normality Test\n",
       "\n",
       "data:  rvec\n",
       "JB = 16908, p-value < 2.2e-16\n",
       "alternative hypothesis: greater\n"
      ]
     },
     "metadata": {},
     "output_type": "display_data"
    }
   ],
   "source": [
    "\n",
    "# Jarque Bera test for normality\n",
    "\n",
    "rvec <- as.vector(save1$z)\n",
    "jarque.test(rvec)  # i.e reject normality"
   ]
  },
  {
   "cell_type": "code",
   "execution_count": 47,
   "metadata": {},
   "outputs": [],
   "source": [
    "#Now the expected values should have the following statistical properties\n",
    "#Mean =0\n",
    "#STD = 1\n",
    "# Skewness=0\n",
    "#Kurtosis = 3 # As per the GARCH model specifications \n",
    "# While in the previous moels the diagnostic test elements where actuallly better"
   ]
  },
  {
   "cell_type": "code",
   "execution_count": 48,
   "metadata": {},
   "outputs": [
    {
     "data": {
      "image/png": "[encoded data removed]",
      "text/plain": [
       "Plot with title \"Series  save1$z\""
      ]
     },
     "metadata": {},
     "output_type": "display_data"
    }
   ],
   "source": [
    "acf(save1$z)"
   ]
  },
  {
   "cell_type": "code",
   "execution_count": 49,
   "metadata": {},
   "outputs": [
    {
     "data": {
      "image/png": "[encoded data removed]",
      "text/plain": [
       "Plot with title \"Series  abs(save1$z)\""
      ]
     },
     "metadata": {},
     "output_type": "display_data"
    }
   ],
   "source": [
    "acf(abs(save1$z))"
   ]
  },
  {
   "cell_type": "code",
   "execution_count": null,
   "metadata": {},
   "outputs": [],
   "source": [
    "#Till Now we have done with a GARCH(1,1) model a normal-distribution\n",
    "# Now with a GARCH(1,1) T-distribution\n",
    "\n",
    "# saving the model as garch.N"
   ]
  },
  {
   "cell_type": "code",
   "execution_count": 50,
   "metadata": {},
   "outputs": [
    {
     "data": {
      "text/plain": [
       "\n",
       "*---------------------------------*\n",
       "*          GARCH Model Fit        *\n",
       "*---------------------------------*\n",
       "\n",
       "Conditional Variance Dynamics \t\n",
       "-----------------------------------\n",
       "GARCH Model\t: sGARCH(1,1)\n",
       "Mean Model\t: ARFIMA(0,0,0)\n",
       "Distribution\t: std \n",
       "\n",
       "Optimal Parameters\n",
       "------------------------------------\n",
       "        Estimate  Std. Error  t value Pr(>|t|)\n",
       "mu      0.003614    0.001248   2.8963 0.003775\n",
       "omega   0.000036    0.000026   1.3746 0.169246\n",
       "alpha1  0.080750    0.037136   2.1744 0.029674\n",
       "beta1   0.916241    0.026827  34.1532 0.000000\n",
       "shape   2.929699    0.423703   6.9145 0.000000\n",
       "\n",
       "Robust Standard Errors:\n",
       "        Estimate  Std. Error  t value Pr(>|t|)\n",
       "mu      0.003614    0.001110   3.2575 0.001124\n",
       "omega   0.000036    0.000028   1.2694 0.204289\n",
       "alpha1  0.080750    0.033546   2.4071 0.016078\n",
       "beta1   0.916241    0.020883  43.8744 0.000000\n",
       "shape   2.929699    0.435784   6.7228 0.000000\n",
       "\n",
       "LogLikelihood : 851.8694 \n",
       "\n",
       "Information Criteria\n",
       "------------------------------------\n",
       "                    \n",
       "Akaike       -3.9207\n",
       "Bayes        -3.8736\n",
       "Shibata      -3.9210\n",
       "Hannan-Quinn -3.9021\n",
       "\n",
       "Weighted Ljung-Box Test on Standardized Residuals\n",
       "------------------------------------\n",
       "                        statistic p-value\n",
       "Lag[1]                     0.8031  0.3702\n",
       "Lag[2*(p+q)+(p+q)-1][2]    1.1789  0.4437\n",
       "Lag[4*(p+q)+(p+q)-1][5]    2.9100  0.4237\n",
       "d.o.f=0\n",
       "H0 : No serial correlation\n",
       "\n",
       "Weighted Ljung-Box Test on Standardized Squared Residuals\n",
       "------------------------------------\n",
       "                        statistic p-value\n",
       "Lag[1]                    0.03554  0.8505\n",
       "Lag[2*(p+q)+(p+q)-1][5]   0.47952  0.9608\n",
       "Lag[4*(p+q)+(p+q)-1][9]   0.75777  0.9942\n",
       "d.o.f=2\n",
       "\n",
       "Weighted ARCH LM Tests\n",
       "------------------------------------\n",
       "            Statistic Shape Scale P-Value\n",
       "ARCH Lag[3]   0.08482 0.500 2.000  0.7709\n",
       "ARCH Lag[5]   0.73254 1.440 1.667  0.8136\n",
       "ARCH Lag[7]   0.79835 2.315 1.543  0.9440\n",
       "\n",
       "Nyblom stability test\n",
       "------------------------------------\n",
       "Joint Statistic:  1.3802\n",
       "Individual Statistics:             \n",
       "mu     0.2935\n",
       "omega  0.2681\n",
       "alpha1 0.5536\n",
       "beta1  0.3909\n",
       "shape  0.4434\n",
       "\n",
       "Asymptotic Critical Values (10% 5% 1%)\n",
       "Joint Statistic:     \t 1.28 1.47 1.88\n",
       "Individual Statistic:\t 0.35 0.47 0.75\n",
       "\n",
       "Sign Bias Test\n",
       "------------------------------------\n",
       "                   t-value   prob sig\n",
       "Sign Bias          1.40308 0.1613    \n",
       "Negative Sign Bias 0.04231 0.9663    \n",
       "Positive Sign Bias 1.34856 0.1782    \n",
       "Joint Effect       2.57131 0.4625    \n",
       "\n",
       "\n",
       "Adjusted Pearson Goodness-of-Fit Test:\n",
       "------------------------------------\n",
       "  group statistic p-value(g-1)\n",
       "1    20     22.54       0.2583\n",
       "2    30     30.92       0.3694\n",
       "3    40     43.74       0.2772\n",
       "4    50     52.26       0.3485\n",
       "\n",
       "\n",
       "Elapsed time : 0.09369802 \n"
      ]
     },
     "metadata": {},
     "output_type": "display_data"
    }
   ],
   "source": [
    "#Till Now we have done with a GARCH(1,1) model a normal-distribution\n",
    "# Now with a GARCH(1,1) T-distribution\n",
    "garch.t <- ugarchspec(variance.model = list(model = \"sGARCH\",garchOrder = c(1,1)),\n",
    "                     mean.model = list(armaOrder = c(0,0),include.mean = TRUE),\n",
    "                     distribution.model = \"std\")\n",
    "\n",
    "fit.garch.t <- ugarchfit(spec = garch.t,data = logret)\n",
    "\n",
    "fit.garch.t\n",
    "\n",
    "# saving the model as garch.t"
   ]
  },
  {
   "cell_type": "code",
   "execution_count": 53,
   "metadata": {},
   "outputs": [],
   "source": [
    "# save Fitted Values\n",
    "save2 <- cbind(logret,fit.garch.t@fit$sigma,fit.garch.t@fit$z)\n",
    "names(save2) <- c(\"logret\",\"s\",\"z\")\n",
    "\n",
    "parm1 <- fit.garch.t@fit$coef"
   ]
  },
  {
   "cell_type": "code",
   "execution_count": 54,
   "metadata": {},
   "outputs": [
    {
     "data": {
      "text/html": [
       "0.01808848"
      ],
      "text/latex": [
       "0.01808848"
      ],
      "text/markdown": [
       "0.01808848"
      ],
      "text/plain": [
       "[1] 0.01808848"
      ]
     },
     "metadata": {},
     "output_type": "display_data"
    },
    {
     "data": {
      "text/html": [
       "1.03007511"
      ],
      "text/latex": [
       "1.03007511"
      ],
      "text/markdown": [
       "1.03007511"
      ],
      "text/plain": [
       "[1] 1.030075"
      ]
     },
     "metadata": {},
     "output_type": "display_data"
    }
   ],
   "source": [
    "#Diagnostic test for the neww fitted et\n",
    "# Distribution of returns\n",
    "# ESTIMATE U -using sample mean  and sigma using std. deviation\n",
    "\n",
    "mu <- round(mean(save2$z),8)\n",
    "\n",
    "sig <- round(sd(save2$z),8)\n",
    "\n",
    "mu\n",
    "sig"
   ]
  },
  {
   "cell_type": "code",
   "execution_count": 55,
   "metadata": {},
   "outputs": [
    {
     "data": {
      "text/html": [
       "-3.07"
      ],
      "text/latex": [
       "-3.07"
      ],
      "text/markdown": [
       "-3.07"
      ],
      "text/plain": [
       "[1] -3.07"
      ]
     },
     "metadata": {},
     "output_type": "display_data"
    }
   ],
   "source": [
    "rvec <- as.vector(save2$z) # Converting into vector\n",
    "round(skewness(rvec),2) # So left-skewed"
   ]
  },
  {
   "cell_type": "code",
   "execution_count": 56,
   "metadata": {},
   "outputs": [
    {
     "data": {
      "text/html": [
       "41.11"
      ],
      "text/latex": [
       "41.11"
      ],
      "text/markdown": [
       "41.11"
      ],
      "text/plain": [
       "[1] 41.11"
      ]
     },
     "metadata": {},
     "output_type": "display_data"
    }
   ],
   "source": [
    "# If a distribution has fatter tails = Leptokurtic\n",
    "# # If a distribution has Thinner tails = Platykurtic\n",
    "rvec <- as.vector(save2$z)\n",
    "round(kurtosis(rvec),2) #Heavy Tailed as it is > than 3 | Normal if = 3 |  < 3 - for thin tailed test"
   ]
  },
  {
   "cell_type": "code",
   "execution_count": 57,
   "metadata": {},
   "outputs": [
    {
     "data": {
      "text/plain": [
       "\n",
       "\tJarque-Bera Normality Test\n",
       "\n",
       "data:  rvec\n",
       "JB = 26828, p-value < 2.2e-16\n",
       "alternative hypothesis: greater\n"
      ]
     },
     "metadata": {},
     "output_type": "display_data"
    }
   ],
   "source": [
    "# Jarque Bera test for normality\n",
    "\n",
    "rvec <- as.vector(save2$z)\n",
    "jarque.test(rvec)  # i.e reject normality"
   ]
  },
  {
   "cell_type": "code",
   "execution_count": 52,
   "metadata": {},
   "outputs": [],
   "source": [
    "#Now the expected values should have the following statistical properties\n",
    "#Mean =0\n",
    "#STD = 1\n",
    "# Skewness=0\n",
    "#Kurtosis = 3+6/v-4 # As per the GARCH model specifications \n",
    "# While in the previous moels the diagnostic test elements where actuallly better"
   ]
  },
  {
   "cell_type": "code",
   "execution_count": 58,
   "metadata": {},
   "outputs": [
    {
     "data": {
      "image/png": "[encoded data removed]",
      "text/plain": [
       "Plot with title \"Series  save2$z\""
      ]
     },
     "metadata": {},
     "output_type": "display_data"
    }
   ],
   "source": [
    "acf(save2$z)"
   ]
  },
  {
   "cell_type": "code",
   "execution_count": 59,
   "metadata": {},
   "outputs": [
    {
     "data": {
      "image/png": "[encoded data removed]",
      "text/plain": [
       "Plot with title \"Series  abs(save2$z)\""
      ]
     },
     "metadata": {},
     "output_type": "display_data"
    }
   ],
   "source": [
    "acf(abs(save2$z))"
   ]
  },
  {
   "cell_type": "code",
   "execution_count": null,
   "metadata": {},
   "outputs": [],
   "source": [
    "# Mean & Std are good"
   ]
  },
  {
   "cell_type": "code",
   "execution_count": 60,
   "metadata": {},
   "outputs": [
    {
     "data": {
      "image/png": "[encoded data removed]",
      "text/plain": [
       "plot without title"
      ]
     },
     "metadata": {},
     "output_type": "display_data"
    }
   ],
   "source": [
    "plot(save1$s)"
   ]
  },
  {
   "cell_type": "code",
   "execution_count": 61,
   "metadata": {},
   "outputs": [
    {
     "data": {
      "image/png": "[encoded data removed]",
      "text/plain": [
       "plot without title"
      ]
     },
     "metadata": {},
     "output_type": "display_data"
    }
   ],
   "source": [
    "plot(save2$s)"
   ]
  },
  {
   "cell_type": "code",
   "execution_count": 62,
   "metadata": {},
   "outputs": [],
   "source": [
    "#Graph of fiited sqr. root of ht in both cases - it denotes the volatility clustering in the Bitcoin Prices\n",
    "# As the volatility is high VAR & ES are going to be High\n",
    "# As the volatility is low VAR & ES are going to be Low\n",
    "# So above VAR and ES are going to be high at aril 1,2020"
   ]
  },
  {
   "cell_type": "code",
   "execution_count": 63,
   "metadata": {},
   "outputs": [],
   "source": [
    "#Now that we have estimated the GARCH model now we can now estimate it to Find VAR & ES using UGARCH boot function\n",
    "# Simulate 1-day ahead with ugarchboot() fxn\n",
    "\n",
    "#Simulate outcomes by bootstrapping from fited et of fit.garch.t\n",
    "set.seed(123789)\n",
    "boot.garch <- ugarchboot(fit.garch.t,\n",
    "                        method=\"Partial\",\n",
    "                        sampling=\"raw\",   #bootstrap fro fitted e\n",
    "                        n.ahead=1,           #simulation horizon # How many periods to simulate - Me the next day\n",
    "                        n.bootpred=100000,     #number of simulations\n",
    "                        solver=\"solnp\") #Save it at boot.garch"
   ]
  },
  {
   "cell_type": "code",
   "execution_count": 65,
   "metadata": {},
   "outputs": [
    {
     "data": {
      "text/html": [
       "<strong>5%:</strong> -0.0539667634781789"
      ],
      "text/latex": [
       "\\textbf{5\\textbackslash{}\\%:} -0.0539667634781789"
      ],
      "text/markdown": [
       "**5%:** -0.0539667634781789"
      ],
      "text/plain": [
       "         5% \n",
       "-0.05396676 "
      ]
     },
     "metadata": {},
     "output_type": "display_data"
    },
    {
     "data": {
      "text/html": [
       "-0.105887622745043"
      ],
      "text/latex": [
       "-0.105887622745043"
      ],
      "text/markdown": [
       "-0.105887622745043"
      ],
      "text/plain": [
       "[1] -0.1058876"
      ]
     },
     "metadata": {},
     "output_type": "display_data"
    }
   ],
   "source": [
    "#Calculate the VAR and ES from the simulated outcomes\n",
    "\n",
    "\n",
    "rvec <- boot.garch@fseries\n",
    "alpha <- 0.05\n",
    "VAR <- quantile(rvec,alpha)\n",
    "ES <- mean(rvec[rvec<VAR])\n",
    "\n",
    "VAR \n",
    "ES            # Prediction for 9-03-2021"
   ]
  },
  {
   "cell_type": "markdown",
   "metadata": {},
   "source": [
    "### In he earlier models Var & ES were calculated by ignoring the ordering of the data # Basicaaly these VAR and ES only apply\n",
    "### to the typical outcome but Var & ES from the GARCH model change over time\n",
    "### As in the above graph fiited volatility is low at the end of the period so var & es are low in the current model\n",
    "\n",
    "### To make this point clearly Let's estimate VAR and ES for Feb 28/2020 - The day covid exploded"
   ]
  },
  {
   "cell_type": "code",
   "execution_count": null,
   "metadata": {},
   "outputs": [],
   "source": [
    "# Now take another dataset for the day covid explodes\n",
    "# Another day when the indices fell and then comaper VAR of all of them"
   ]
  },
  {
   "cell_type": "markdown",
   "metadata": {},
   "source": [
    "### The Previous methods which ignored volaitility clustering can only give VAR &Es for a typical day in our sample \n",
    "### So why is GARCH model better - i.e. when Volatility is high - Risk is also High so a portfolio manage might want to take actions to redeuce the risk"
   ]
  },
  {
   "cell_type": "code",
   "execution_count": null,
   "metadata": {},
   "outputs": [],
   "source": [
    "#u-garch roll - Here we take data till Jan-2021 and then based on the GARCH-1-day prediction we try roll it and make prediction\n",
    "# till 2021\n",
    "# i.e. one predictiion made - Now add it to old data & Predict the next day"
   ]
  },
  {
   "cell_type": "code",
   "execution_count": 70,
   "metadata": {},
   "outputs": [],
   "source": [
    "# Rolling 1-day VAR with ugarchroll()\n",
    "\n",
    "n2016 <- length(logret[\"2020-01-01/2021-01-31\"])\n",
    "rollgarch <- ugarchroll(spec=garch.t,\n",
    "                        data=logret,\n",
    "                        n.ahead=1,\n",
    "                        forecast.length=1,\n",
    "                        n.start= n2016,\n",
    "                        refit.every=1,\n",
    "                        refit.window=\"recursive\",\n",
    "                        calculate.VAR=TRUE,\n",
    "                        VAR.alpha=0.05,\n",
    "                        keep.coef=TRUE)"
   ]
  },
  {
   "cell_type": "code",
   "execution_count": 74,
   "metadata": {},
   "outputs": [
    {
     "data": {
      "text/plain": [
       "\n",
       "*-------------------------------------*\n",
       "*              GARCH Roll             *\n",
       "*-------------------------------------*\n",
       "No.Refits\t\t: 36\n",
       "Refit Horizon\t: 1\n",
       "No.Forecasts\t: 36\n",
       "GARCH Model\t\t: sGARCH(1,1)\n",
       "Distribution\t: std \n",
       "\n",
       "Forecast Density:\n",
       "               Mu  Sigma Skew  Shape Shape(GIG) Realized\n",
       "2021-02-01 0.0034 0.0550    0 2.9156          0   0.0115\n",
       "2021-02-02 0.0034 0.0526    0 2.9066          0   0.0596\n",
       "2021-02-03 0.0035 0.0533    0 2.9271          0   0.0617\n",
       "2021-02-04 0.0035 0.0541    0 2.9481          0  -0.0187\n",
       "2021-02-05 0.0035 0.0522    0 2.9493          0   0.0346\n",
       "2021-02-06 0.0035 0.0508    0 2.9619          0   0.0160\n",
       "\n",
       "..........................\n",
       "               Mu  Sigma Skew  Shape Shape(GIG) Realized\n",
       "2021-03-03 0.0035 0.0555    0 2.9054          0   0.0365\n",
       "2021-03-04 0.0035 0.0543    0 2.9126          0  -0.0373\n",
       "2021-03-05 0.0035 0.0536    0 2.9273          0   0.0119\n",
       "2021-03-06 0.0035 0.0516    0 2.9150          0   0.0016\n",
       "2021-03-07 0.0035 0.0497    0 2.9040          0   0.0375\n",
       "2021-03-08 0.0036 0.0488    0 2.9194          0   0.0312\n",
       "\n",
       "Elapsed: 5.651715 secs"
      ]
     },
     "metadata": {},
     "output_type": "display_data"
    }
   ],
   "source": [
    "rollgarch"
   ]
  },
  {
   "cell_type": "code",
   "execution_count": null,
   "metadata": {},
   "outputs": [],
   "source": [
    "\n"
   ]
  },
  {
   "cell_type": "code",
   "execution_count": null,
   "metadata": {},
   "outputs": [],
   "source": []
  },
  {
   "cell_type": "code",
   "execution_count": null,
   "metadata": {},
   "outputs": [],
   "source": []
  },
  {
   "cell_type": "code",
   "execution_count": null,
   "metadata": {},
   "outputs": [],
   "source": []
  },
  {
   "cell_type": "code",
   "execution_count": null,
   "metadata": {},
   "outputs": [],
   "source": []
  }
 ],
 "metadata": {
  "kernelspec": {
   "display_name": "R",
   "language": "R",
   "name": "ir"
  },
  "language_info": {
   "codemirror_mode": "r",
   "file_extension": ".r",
   "mimetype": "text/x-r-source",
   "name": "R",
   "pygments_lexer": "r",
   "version": "3.6.1"
  }
 },
 "nbformat": 4,
 "nbformat_minor": 4
}
