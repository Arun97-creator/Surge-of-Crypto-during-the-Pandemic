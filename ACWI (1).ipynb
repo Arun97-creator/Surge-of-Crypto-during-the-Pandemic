{
 "cells": [
  {
   "cell_type": "code",
   "execution_count": 1,
   "id": "d6c8fe26",
   "metadata": {},
   "outputs": [
    {
     "name": "stdout",
     "output_type": "stream",
     "text": [
      "package 'quantmod' successfully unpacked and MD5 sums checked\n",
      "\n",
      "The downloaded binary packages are in\n",
      "\tC:\\Users\\HP\\AppData\\Local\\Temp\\RtmpMha4dl\\downloaded_packages\n"
     ]
    },
    {
     "name": "stderr",
     "output_type": "stream",
     "text": [
      "Warning message:\n",
      "\"package 'quantmod' was built under R version 3.6.3\"Loading required package: xts\n",
      "Loading required package: zoo\n",
      "\n",
      "Attaching package: 'zoo'\n",
      "\n",
      "The following objects are masked from 'package:base':\n",
      "\n",
      "    as.Date, as.Date.numeric\n",
      "\n",
      "Registered S3 method overwritten by 'xts':\n",
      "  method     from\n",
      "  as.zoo.xts zoo \n",
      "Loading required package: TTR\n",
      "Registered S3 method overwritten by 'quantmod':\n",
      "  method            from\n",
      "  as.zoo.data.frame zoo \n"
     ]
    }
   ],
   "source": [
    "install.packages('quantmod')\n",
    "library(quantmod)"
   ]
  },
  {
   "cell_type": "code",
   "execution_count": 73,
   "id": "4e4693e3",
   "metadata": {},
   "outputs": [
    {
     "data": {
      "text/plain": [
       "           ACWI.Open ACWI.High ACWI.Low ACWI.Close ACWI.Volume ACWI.Adjusted\n",
       "2008-03-28     50.10     50.10    50.10      50.10         200      38.93677\n",
       "2008-03-31     50.00     50.00    49.32      49.32         400      38.33056\n",
       "2008-04-01     50.25     50.65    50.16      50.65         600      39.36421\n",
       "2008-04-02     51.12     51.40    51.05      51.21       10700      39.79943\n",
       "2008-04-03     59.70     59.70    50.95      51.50       29100      40.02483\n",
       "2008-04-04     54.95     54.95    51.47      51.47        9900      40.00151"
      ]
     },
     "metadata": {},
     "output_type": "display_data"
    }
   ],
   "source": [
    "BTC3 <- getSymbols(\"ACWI\",src=\"yahoo\",auto.assign=FALSE)\n",
    "BTC3 <- na.omit(BTC3)\n",
    "BTC3 <- BTC3[\"2008-04-31/2020-01-10\"]\n",
    "head(BTC3)"
   ]
  },
  {
   "cell_type": "code",
   "execution_count": 74,
   "id": "497b4f8e",
   "metadata": {},
   "outputs": [],
   "source": [
    "#BTC1 <- getSymbols(\"XWD.TO\",src=\"FRED\",auto.assign=FALSE)\n",
    "#BTC1 <- na.omit(BTC1)\n",
    "#BTC1 <- BTC1[\"2019-12-31/2021-03-08\"]\n",
    "#names(BTC1) <- \"TR\" # Naming our column Close Price as \"TR\"\n",
    "#head(BTC1)"
   ]
  },
  {
   "cell_type": "code",
   "execution_count": 75,
   "id": "fd328421",
   "metadata": {},
   "outputs": [
    {
     "data": {
      "text/plain": [
       "           ACWI.Open ACWI.Adjusted\n",
       "2008-03-28     50.10      38.93677\n",
       "2008-03-31     50.00      38.33056\n",
       "2008-04-01     50.25      39.36421\n",
       "2008-04-02     51.12      39.79943\n",
       "2008-04-03     59.70      40.02483\n",
       "2008-04-04     54.95      40.00151"
      ]
     },
     "metadata": {},
     "output_type": "display_data"
    }
   ],
   "source": [
    "BTC3 <- BTC3[ ,-c(2,3,4,5)]\n",
    "head(BTC3)"
   ]
  },
  {
   "cell_type": "code",
   "execution_count": 76,
   "id": "6ab1bdb2",
   "metadata": {},
   "outputs": [
    {
     "data": {
      "text/plain": [
       "           ACWI.Open ACWI.Adjusted\n",
       "2008-03-28     50.10      38.93677\n",
       "2008-03-31     50.00      38.33056\n",
       "2008-04-01     50.25      39.36421\n",
       "2008-04-02     51.12      39.79943\n",
       "2008-04-03     59.70      40.02483\n",
       "2008-04-04     54.95      40.00151"
      ]
     },
     "metadata": {},
     "output_type": "display_data"
    }
   ],
   "source": [
    "head(BTC3)"
   ]
  },
  {
   "cell_type": "code",
   "execution_count": 77,
   "id": "b2b75394",
   "metadata": {},
   "outputs": [
    {
     "data": {
      "text/plain": [
       "           ACWI.Adjusted\n",
       "2008-03-28      38.93677\n",
       "2008-03-31      38.33056\n",
       "2008-04-01      39.36421\n",
       "2008-04-02      39.79943\n",
       "2008-04-03      40.02483\n",
       "2008-04-04      40.00151"
      ]
     },
     "metadata": {},
     "output_type": "display_data"
    }
   ],
   "source": [
    "BTC3 <- BTC3[ ,-c(1)]\n",
    "head(BTC3)"
   ]
  },
  {
   "cell_type": "code",
   "execution_count": 78,
   "id": "f2e6db50",
   "metadata": {},
   "outputs": [],
   "source": [
    "colnames(BTC3)[colnames(BTC3) == \"ACWI.Adjusted\"] <- \"TR\""
   ]
  },
  {
   "cell_type": "code",
   "execution_count": 79,
   "id": "0809e50c",
   "metadata": {},
   "outputs": [
    {
     "data": {
      "text/plain": [
       "                 TR\n",
       "2008-03-28 38.93677\n",
       "2008-03-31 38.33056\n",
       "2008-04-01 39.36421\n",
       "2008-04-02 39.79943\n",
       "2008-04-03 40.02483\n",
       "2008-04-04 40.00151"
      ]
     },
     "metadata": {},
     "output_type": "display_data"
    }
   ],
   "source": [
    "head(BTC3)"
   ]
  },
  {
   "cell_type": "code",
   "execution_count": 80,
   "id": "d0f5e105",
   "metadata": {},
   "outputs": [
    {
     "data": {
      "text/plain": [
       "                    TR\n",
       "2008-03-28          NA\n",
       "2008-03-31 -0.01569153\n",
       "2008-04-01  0.02660962"
      ]
     },
     "metadata": {},
     "output_type": "display_data"
    }
   ],
   "source": [
    "logret <- diff(log(BTC3$TR))  # diff function gives us the return\n",
    "head(logret,3)"
   ]
  },
  {
   "cell_type": "code",
   "execution_count": 81,
   "id": "257b9eef",
   "metadata": {},
   "outputs": [
    {
     "data": {
      "image/png": "[encoded data removed]",
      "text/plain": [
       "plot without title"
      ]
     },
     "metadata": {},
     "output_type": "display_data"
    }
   ],
   "source": [
    "plot(BTC3)"
   ]
  },
  {
   "cell_type": "code",
   "execution_count": 82,
   "id": "3efd0d1b",
   "metadata": {},
   "outputs": [
    {
     "data": {
      "image/png": "[encoded data removed]",
      "text/plain": [
       "plot without title"
      ]
     },
     "metadata": {},
     "output_type": "display_data"
    }
   ],
   "source": [
    "plot(logret)"
   ]
  },
  {
   "cell_type": "code",
   "execution_count": 83,
   "id": "06a87a2f",
   "metadata": {},
   "outputs": [
    {
     "data": {
      "text/plain": [
       "                  TR\n",
       "2008-03-31 -0.015692\n",
       "2008-04-01  0.026610\n",
       "2008-04-02  0.010996"
      ]
     },
     "metadata": {},
     "output_type": "display_data"
    }
   ],
   "source": [
    "# The R code to find log-return, removing missing First Observation\n",
    "\n",
    "logret <- diff(log(BTC3$TR))[-1]\n",
    "round(head(logret,3),6)   # round function to display 6 decimals\n",
    "\n",
    "# First Value interpretation \n",
    "# Stock-index fell by 1.5%"
   ]
  },
  {
   "cell_type": "code",
   "execution_count": 84,
   "id": "79a2be2b",
   "metadata": {},
   "outputs": [
    {
     "data": {
      "text/plain": [
       "                  TR\n",
       "2008-03-31 -0.015569\n",
       "2008-04-01  0.026967\n",
       "2008-04-02  0.011056"
      ]
     },
     "metadata": {},
     "output_type": "display_data"
    }
   ],
   "source": [
    "# Now Calculate the discreet Return from the formula of exp.\n",
    "ret <- exp(logret)-1  #To go from log return to simple return,\n",
    "round(head(ret,3),6)"
   ]
  },
  {
   "cell_type": "code",
   "execution_count": 85,
   "id": "9259fa8f",
   "metadata": {},
   "outputs": [
    {
     "data": {
      "image/png": "[encoded data removed]",
      "text/plain": [
       "plot without title"
      ]
     },
     "metadata": {},
     "output_type": "display_data"
    }
   ],
   "source": [
    "plot(ret)"
   ]
  },
  {
   "cell_type": "code",
   "execution_count": 86,
   "id": "3e889517",
   "metadata": {},
   "outputs": [
    {
     "data": {
      "text/plain": [
       "                  TR\n",
       "2008-03-28  38.93677\n",
       "2008-04-04 197.52054\n",
       "2008-04-11 199.27693"
      ]
     },
     "metadata": {},
     "output_type": "display_data"
    }
   ],
   "source": [
    "# Weekly log-return\n",
    "\n",
    "logret_w <- apply.weekly(BTC3,sum)\n",
    "\n",
    "round(head(logret_w,3),6)"
   ]
  },
  {
   "cell_type": "code",
   "execution_count": 87,
   "id": "a4fdf96e",
   "metadata": {},
   "outputs": [
    {
     "data": {
      "image/png": "[encoded data removed]",
      "text/plain": [
       "plot without title"
      ]
     },
     "metadata": {},
     "output_type": "display_data"
    }
   ],
   "source": [
    "plot(logret_w)"
   ]
  },
  {
   "cell_type": "code",
   "execution_count": 88,
   "id": "398da5e0",
   "metadata": {},
   "outputs": [
    {
     "data": {
      "text/plain": [
       "                      TR\n",
       "2019-12-27 3.456991e+135\n",
       "2020-01-03 6.238685e+135\n",
       "2020-01-10 2.888884e+170"
      ]
     },
     "metadata": {},
     "output_type": "display_data"
    }
   ],
   "source": [
    "# Calculate discrete return from log-return\n",
    "\n",
    "ret_w <- exp(logret_w)-1\n",
    "\n",
    "round(tail(ret_w,3),6)"
   ]
  },
  {
   "cell_type": "code",
   "execution_count": 89,
   "id": "288b15f8",
   "metadata": {},
   "outputs": [],
   "source": [
    "#if the returns distribition are normal it is easy to find out VAR & ES"
   ]
  },
  {
   "cell_type": "code",
   "execution_count": 90,
   "id": "29b13fcc",
   "metadata": {},
   "outputs": [
    {
     "data": {
      "text/plain": [
       "                  TR\n",
       "2008-03-31  77.26733\n",
       "2008-04-30 886.16494\n",
       "2008-05-30 875.88281"
      ]
     },
     "metadata": {},
     "output_type": "display_data"
    }
   ],
   "source": [
    "#monthly\n",
    "logret_w1 <- apply.monthly(BTC3,sum)\n",
    "\n",
    "round(head(logret_w1,3),6)"
   ]
  },
  {
   "cell_type": "code",
   "execution_count": 91,
   "id": "7bb53d24",
   "metadata": {},
   "outputs": [
    {
     "data": {
      "image/png": "[encoded data removed]",
      "text/plain": [
       "plot without title"
      ]
     },
     "metadata": {},
     "output_type": "display_data"
    }
   ],
   "source": [
    "plot(logret_w1)"
   ]
  },
  {
   "cell_type": "code",
   "execution_count": 92,
   "id": "313aadc3",
   "metadata": {},
   "outputs": [
    {
     "data": {
      "text/html": [
       "0.00023726"
      ],
      "text/latex": [
       "0.00023726"
      ],
      "text/markdown": [
       "0.00023726"
      ],
      "text/plain": [
       "[1] 0.00023726"
      ]
     },
     "metadata": {},
     "output_type": "display_data"
    },
    {
     "data": {
      "text/html": [
       "0.01299233"
      ],
      "text/latex": [
       "0.01299233"
      ],
      "text/markdown": [
       "0.01299233"
      ],
      "text/plain": [
       "[1] 0.01299233"
      ]
     },
     "metadata": {},
     "output_type": "display_data"
    }
   ],
   "source": [
    "# Distribution of log-returns\n",
    "# ESTIMATE U -using sample mean  and sigma using std. deviation\n",
    "\n",
    "mu <- round(mean(logret),8)\n",
    "\n",
    "sig <- round(sd(logret),8)\n",
    "\n",
    "mu\n",
    "sig"
   ]
  },
  {
   "cell_type": "code",
   "execution_count": 93,
   "id": "2f3502f7",
   "metadata": {},
   "outputs": [
    {
     "data": {
      "text/html": [
       "-0.021133"
      ],
      "text/latex": [
       "-0.021133"
      ],
      "text/markdown": [
       "-0.021133"
      ],
      "text/plain": [
       "[1] -0.021133"
      ]
     },
     "metadata": {},
     "output_type": "display_data"
    }
   ],
   "source": [
    "var <- round(qnorm(0.05,mu,sig),6)   # quantile for the normal distribution only  # VAR value is -2.2%\n",
    "var"
   ]
  },
  {
   "cell_type": "code",
   "execution_count": 94,
   "id": "7c7c1a2f",
   "metadata": {},
   "outputs": [
    {
     "data": {
      "image/png": "[encoded data removed]",
      "text/plain": [
       "Plot with title \"Histogram of logret\""
      ]
     },
     "metadata": {},
     "output_type": "display_data"
    }
   ],
   "source": [
    "hist(logret)"
   ]
  },
  {
   "cell_type": "code",
   "execution_count": 95,
   "id": "c35988a6",
   "metadata": {},
   "outputs": [
    {
     "data": {
      "text/html": [
       "-0.02091126289251"
      ],
      "text/latex": [
       "-0.02091126289251"
      ],
      "text/markdown": [
       "-0.02091126289251"
      ],
      "text/plain": [
       "[1] -0.02091126"
      ]
     },
     "metadata": {},
     "output_type": "display_data"
    }
   ],
   "source": [
    "(exp(var)-1) # First convert var into discrete returns"
   ]
  },
  {
   "cell_type": "code",
   "execution_count": 96,
   "id": "561e3436",
   "metadata": {},
   "outputs": [
    {
     "data": {
      "text/html": [
       "-20911.26289251"
      ],
      "text/latex": [
       "-20911.26289251"
      ],
      "text/markdown": [
       "-20911.26289251"
      ],
      "text/plain": [
       "[1] -20911.26"
      ]
     },
     "metadata": {},
     "output_type": "display_data"
    }
   ],
   "source": [
    "(exp(var)-1) * 1000000"
   ]
  },
  {
   "cell_type": "code",
   "execution_count": 97,
   "id": "081cd62f",
   "metadata": {},
   "outputs": [],
   "source": [
    "# ES - If the outcome were to be worse than -2.2% then the ES is the expected loss"
   ]
  },
  {
   "cell_type": "code",
   "execution_count": 98,
   "id": "60c30d98",
   "metadata": {},
   "outputs": [
    {
     "data": {
      "text/html": [
       "-0.026562185490363"
      ],
      "text/latex": [
       "-0.026562185490363"
      ],
      "text/markdown": [
       "-0.026562185490363"
      ],
      "text/plain": [
       "[1] -0.02656219"
      ]
     },
     "metadata": {},
     "output_type": "display_data"
    }
   ],
   "source": [
    "# Calculating 1-day 95% Expected Shortfall for alpha = 0.05 during the case of normal distribution\n",
    "es <- mu-sig*dnorm(qnorm(0.05,0,1),0,1)/0.05\n",
    "es\n",
    "# It means if the log-return is worse than -2.2% then the avg. loss is abt -2.7%"
   ]
  },
  {
   "cell_type": "code",
   "execution_count": 99,
   "id": "4eefd09d",
   "metadata": {},
   "outputs": [],
   "source": [
    "# Next wld be predicting AR & ES based on Simulations - Up untill now we consider the Normality Assumptions\n",
    "# Week 3"
   ]
  },
  {
   "cell_type": "code",
   "execution_count": 100,
   "id": "ce20b77c",
   "metadata": {},
   "outputs": [
    {
     "name": "stderr",
     "output_type": "stream",
     "text": [
      "Warning message:\n",
      "\"package 'moments' is in use and will not be installed\""
     ]
    }
   ],
   "source": [
    "install.packages('moments')\n",
    "library(moments)\n"
   ]
  },
  {
   "cell_type": "code",
   "execution_count": 101,
   "id": "6192c622",
   "metadata": {},
   "outputs": [
    {
     "name": "stderr",
     "output_type": "stream",
     "text": [
      "Warning message:\n",
      "\"package 'metRology' is in use and will not be installed\""
     ]
    }
   ],
   "source": [
    "install.packages('metRology')\n",
    "library(metRology)"
   ]
  },
  {
   "cell_type": "code",
   "execution_count": 102,
   "id": "87d6806b",
   "metadata": {},
   "outputs": [],
   "source": [
    "library(rugarch)"
   ]
  },
  {
   "cell_type": "code",
   "execution_count": 103,
   "id": "d83ec131",
   "metadata": {},
   "outputs": [
    {
     "data": {
      "text/html": [
       "<strong>5%:</strong> -0.021243"
      ],
      "text/latex": [
       "\\textbf{5\\textbackslash{}\\%:} -0.021243"
      ],
      "text/markdown": [
       "**5%:** -0.021243"
      ],
      "text/plain": [
       "       5% \n",
       "-0.021243 "
      ]
     },
     "metadata": {},
     "output_type": "display_data"
    },
    {
     "data": {
      "text/html": [
       "-0.02682"
      ],
      "text/latex": [
       "-0.02682"
      ],
      "text/markdown": [
       "-0.02682"
      ],
      "text/plain": [
       "[1] -0.02682"
      ]
     },
     "metadata": {},
     "output_type": "display_data"
    }
   ],
   "source": [
    "# Draw 100,000 outcomes from the N(mu,sig) distribution\n",
    "alpha <- 0.05\n",
    "set.seed(123789)    #seed value tells the computer where to start the sequence # if i do not set , then each time i get diff.set\n",
    "\n",
    "rvec <- rnorm(100000,mu,sig)# Get a 100000 rando no.s from a random distribution   # So the result wld be different everytime\n",
    "\n",
    "VAR <- quantile(rvec,alpha)\n",
    "\n",
    "ES <- mean(rvec[rvec<VAR])\n",
    "\n",
    "round(VAR,6)\n",
    "\n",
    "round(ES,6)\n",
    "# Simulation method will not give us the exact correct value as it takes an assumption on the mean and std.-deviation"
   ]
  },
  {
   "cell_type": "code",
   "execution_count": 104,
   "id": "54262d77",
   "metadata": {},
   "outputs": [],
   "source": [
    "#The objective of the class is - How to re-scale the t-distribution with U , STD. dev , Kurtosis , skewness, d.o.f.\n",
    "#To match the original distribution of the data\n",
    "#It provides accurate VAR & Es for our data\n",
    "\n",
    "## Re-scaledt-distribution model\n",
    "# We use M-L method\n",
    "# Use the fit-distribution function"
   ]
  },
  {
   "cell_type": "code",
   "execution_count": 105,
   "id": "4d1777ca",
   "metadata": {},
   "outputs": [
    {
     "name": "stderr",
     "output_type": "stream",
     "text": [
      "Warning message in dt((x - m)/s, df, log = TRUE):\n",
      "\"NaNs produced\"Warning message in dt((x - m)/s, df, log = TRUE):\n",
      "\"NaNs produced\"Warning message in log(s):\n",
      "\"NaNs produced\"Warning message in log(s):\n",
      "\"NaNs produced\"Warning message in log(s):\n",
      "\"NaNs produced\"Warning message in log(s):\n",
      "\"NaNs produced\"Warning message in log(s):\n",
      "\"NaNs produced\"Warning message in dt((x - m)/s, df, log = TRUE):\n",
      "\"NaNs produced\"Warning message in dt((x - m)/s, df, log = TRUE):\n",
      "\"NaNs produced\"Warning message in log(s):\n",
      "\"NaNs produced\"Warning message in log(s):\n",
      "\"NaNs produced\"Warning message in log(s):\n",
      "\"NaNs produced\"Warning message in log(s):\n",
      "\"NaNs produced\"Warning message in log(s):\n",
      "\"NaNs produced\"Warning message in log(s):\n",
      "\"NaNs produced\"Warning message in log(s):\n",
      "\"NaNs produced\"Warning message in log(s):\n",
      "\"NaNs produced\"Warning message in log(s):\n",
      "\"NaNs produced\"Warning message in log(s):\n",
      "\"NaNs produced\"Warning message in log(s):\n",
      "\"NaNs produced\"Warning message in log(s):\n",
      "\"NaNs produced\"Warning message in dt((x - m)/s, df, log = TRUE):\n",
      "\"NaNs produced\"Warning message in dt((x - m)/s, df, log = TRUE):\n",
      "\"NaNs produced\""
     ]
    },
    {
     "data": {
      "text/html": [
       "<dl class=dl-horizontal>\n",
       "\t<dt>m</dt>\n",
       "\t\t<dd>0.000791</dd>\n",
       "\t<dt>s</dt>\n",
       "\t\t<dd>0.006946</dd>\n",
       "\t<dt>df</dt>\n",
       "\t\t<dd>2.507744</dd>\n",
       "</dl>\n"
      ],
      "text/latex": [
       "\\begin{description*}\n",
       "\\item[m] 0.000791\n",
       "\\item[s] 0.006946\n",
       "\\item[df] 2.507744\n",
       "\\end{description*}\n"
      ],
      "text/markdown": [
       "m\n",
       ":   0.000791s\n",
       ":   0.006946df\n",
       ":   2.507744\n",
       "\n"
      ],
      "text/plain": [
       "       m        s       df \n",
       "0.000791 0.006946 2.507744 "
      ]
     },
     "metadata": {},
     "output_type": "display_data"
    }
   ],
   "source": [
    "library(MASS)\n",
    "rvec <- as.vector(logret) #Using ML method and finding the best parameters\n",
    "t.fit <- fitdistr(rvec,\"t\")\n",
    "round(t.fit$estimate,6)"
   ]
  },
  {
   "cell_type": "code",
   "execution_count": 106,
   "id": "a440aadb",
   "metadata": {},
   "outputs": [
    {
     "data": {
      "text/html": [
       "<strong>5%:</strong> -0.016856"
      ],
      "text/latex": [
       "\\textbf{5\\textbackslash{}\\%:} -0.016856"
      ],
      "text/markdown": [
       "**5%:** -0.016856"
      ],
      "text/plain": [
       "       5% \n",
       "-0.016856 "
      ]
     },
     "metadata": {},
     "output_type": "display_data"
    },
    {
     "data": {
      "text/html": [
       "-0.030565"
      ],
      "text/latex": [
       "-0.030565"
      ],
      "text/markdown": [
       "-0.030565"
      ],
      "text/plain": [
       "[1] -0.030565"
      ]
     },
     "metadata": {},
     "output_type": "display_data"
    }
   ],
   "source": [
    "# Estimating VAR and ES for student-t distribution with the above parameters\n",
    "alpha <- 0.05\n",
    "set.seed(123789)\n",
    "#install.packages('metRology')\n",
    "#library(metRology)\n",
    "rvec <- rt.scaled(100000,mean=t.fit$estimate[1],sd=t.fit$estimate[2],df=t.fit$estimate[3])\n",
    "# We use rt.scaled fx to simulate data from the re-scaled t-distribution using the estimated parameters\n",
    "# fIRST argument is- The no. of outcomes we want in our simulation\n",
    "VAR <- quantile(rvec,alpha)\n",
    "ES <- mean(rvec[rvec<VAR])\n",
    "round(VAR,6)\n",
    "\n",
    "round(ES,6)"
   ]
  },
  {
   "cell_type": "code",
   "execution_count": 107,
   "id": "a11e1a2b",
   "metadata": {},
   "outputs": [
    {
     "data": {
      "text/html": [
       "<strong>5%:</strong> -0.066284428915225"
      ],
      "text/latex": [
       "\\textbf{5\\textbackslash{}\\%:} -0.066284428915225"
      ],
      "text/markdown": [
       "**5%:** -0.066284428915225"
      ],
      "text/plain": [
       "         5% \n",
       "-0.06628443 "
      ]
     },
     "metadata": {},
     "output_type": "display_data"
    },
    {
     "data": {
      "text/html": [
       "-0.090245087736446"
      ],
      "text/latex": [
       "-0.090245087736446"
      ],
      "text/markdown": [
       "-0.090245087736446"
      ],
      "text/plain": [
       "[1] -0.09024509"
      ]
     },
     "metadata": {},
     "output_type": "display_data"
    }
   ],
   "source": [
    "# Method - B - IID simulation from empirical distribution - simulating from the actual data\n",
    "alpha <- 0.05\n",
    "set.seed(123789)\n",
    "library(metRology)\n",
    "rvec <- rep(0,100000)\n",
    "for (i in 1:10){\n",
    "    rvec <- rvec+sample(as.vector(logret),100000,replace=TRUE)\n",
    "}\n",
    "VAR <- quantile(rvec,alpha)\n",
    "ES <- mean(rvec[rvec<VAR])\n",
    "\n",
    "VAR\n",
    "ES"
   ]
  },
  {
   "cell_type": "code",
   "execution_count": 108,
   "id": "43e2b543",
   "metadata": {},
   "outputs": [
    {
     "data": {
      "text/html": [
       "<strong>5%:</strong> -0.0557442547213687"
      ],
      "text/latex": [
       "\\textbf{5\\textbackslash{}\\%:} -0.0557442547213687"
      ],
      "text/markdown": [
       "**5%:** -0.0557442547213687"
      ],
      "text/plain": [
       "         5% \n",
       "-0.05574425 "
      ]
     },
     "metadata": {},
     "output_type": "display_data"
    },
    {
     "data": {
      "text/html": [
       "-0.0954495966726776"
      ],
      "text/latex": [
       "-0.0954495966726776"
      ],
      "text/markdown": [
       "-0.0954495966726776"
      ],
      "text/plain": [
       "[1] -0.0954496"
      ]
     },
     "metadata": {},
     "output_type": "display_data"
    }
   ],
   "source": [
    "# Method C - Block simulation from empirical distribution\n",
    "# randomly pick a block of 10 consecutive 1-day log-returns from the actual data.Add them up to get a 10-day log-return\n",
    "alpha <- 0.05\n",
    "set.seed(123789)\n",
    "rvec <- rep(0,100000)\n",
    "rdat <- as.vector(logret)\n",
    "posn <- seq(from=1,to=length(rdat)-9,by=1)\n",
    "rpos <- sample(posn,100000,replace=TRUE)\n",
    "for (i in 1:10){\n",
    "    rvec <- rvec+rdat[rpos]\n",
    "    rpos <- rpos+1\n",
    "}\n",
    "\n",
    "VAR <- quantile(rvec,alpha)\n",
    "ES <- mean(rvec[rvec<VAR])\n",
    "\n",
    "VAR\n",
    "ES"
   ]
  },
  {
   "cell_type": "code",
   "execution_count": 109,
   "id": "9931366c",
   "metadata": {},
   "outputs": [],
   "source": [
    "# If there is some important time-dependence in our data then method B & C may give different answers"
   ]
  },
  {
   "cell_type": "code",
   "execution_count": 110,
   "id": "92aa445a",
   "metadata": {},
   "outputs": [
    {
     "data": {
      "image/png": "[encoded data removed]",
      "text/plain": [
       "Plot with title \"Series  logret\""
      ]
     },
     "metadata": {},
     "output_type": "display_data"
    }
   ],
   "source": [
    "# Auto-correlation f(x) of logret\n",
    "acf(logret) # dashed lines - 95% confidence band for the acf around 0 - As if it is outside the band - then there is significant\n",
    "# Serial correlation"
   ]
  },
  {
   "cell_type": "code",
   "execution_count": 111,
   "id": "7d592388",
   "metadata": {},
   "outputs": [
    {
     "data": {
      "image/png": "[encoded data removed]",
      "text/plain": [
       "Plot with title \"Series  abs(logret)\""
      ]
     },
     "metadata": {},
     "output_type": "display_data"
    }
   ],
   "source": [
    "# Volatility Clustering\n",
    "# ACF for NTC daily log-returns\n",
    "acf(abs(logret)) # absolute value"
   ]
  },
  {
   "cell_type": "code",
   "execution_count": 112,
   "id": "1dc9f9a5",
   "metadata": {},
   "outputs": [],
   "source": [
    "#High serial correlations , so predictable #Testing for 2nd assumptions - above & Next below\n",
    "\n",
    "#absolute - Large returns whether +ve /-ve = Tend to be followed by large returns- \n",
    "#This is what happens when data has clusters of volatility\n",
    "\n",
    "#Daily index of MSCI-Devd has strong volatility clustering # Img of logreturns - therefore predictable"
   ]
  },
  {
   "cell_type": "code",
   "execution_count": 113,
   "id": "f48cff1f",
   "metadata": {},
   "outputs": [],
   "source": [
    "#Volatilility which is the standard deviation of log-returns\n",
    "library(rugarch)"
   ]
  },
  {
   "cell_type": "code",
   "execution_count": 114,
   "id": "a3004d15",
   "metadata": {},
   "outputs": [],
   "source": [
    "garch.N <- ugarchspec(variance.model = list(model = \"sGARCH\",garchOrder = c(1,1)),\n",
    "                     mean.model = list(armaOrder = c(0,0),include.mean = TRUE),\n",
    "                     distribution.model = \"norm\")\n",
    "# saving the model as garch.N"
   ]
  },
  {
   "cell_type": "code",
   "execution_count": 115,
   "id": "782b2a82",
   "metadata": {},
   "outputs": [
    {
     "data": {
      "text/plain": [
       "\n",
       "*---------------------------------*\n",
       "*          GARCH Model Fit        *\n",
       "*---------------------------------*\n",
       "\n",
       "Conditional Variance Dynamics \t\n",
       "-----------------------------------\n",
       "GARCH Model\t: sGARCH(1,1)\n",
       "Mean Model\t: ARFIMA(0,0,0)\n",
       "Distribution\t: norm \n",
       "\n",
       "Optimal Parameters\n",
       "------------------------------------\n",
       "        Estimate  Std. Error  t value Pr(>|t|)\n",
       "mu      0.000619    0.000139   4.4441 0.000009\n",
       "omega   0.000002    0.000001   1.9873 0.046890\n",
       "alpha1  0.140997    0.016950   8.3186 0.000000\n",
       "beta1   0.851369    0.015650  54.3993 0.000000\n",
       "\n",
       "Robust Standard Errors:\n",
       "        Estimate  Std. Error  t value Pr(>|t|)\n",
       "mu      0.000619    0.000119  5.22222 0.000000\n",
       "omega   0.000002    0.000005  0.37143 0.710320\n",
       "alpha1  0.140997    0.058503  2.41009 0.015948\n",
       "beta1   0.851369    0.062463 13.62987 0.000000\n",
       "\n",
       "LogLikelihood : 9582.835 \n",
       "\n",
       "Information Criteria\n",
       "------------------------------------\n",
       "                    \n",
       "Akaike       -6.4547\n",
       "Bayes        -6.4467\n",
       "Shibata      -6.4547\n",
       "Hannan-Quinn -6.4518\n",
       "\n",
       "Weighted Ljung-Box Test on Standardized Residuals\n",
       "------------------------------------\n",
       "                        statistic p-value\n",
       "Lag[1]                      1.688  0.1939\n",
       "Lag[2*(p+q)+(p+q)-1][2]     1.700  0.3177\n",
       "Lag[4*(p+q)+(p+q)-1][5]     2.356  0.5369\n",
       "d.o.f=0\n",
       "H0 : No serial correlation\n",
       "\n",
       "Weighted Ljung-Box Test on Standardized Squared Residuals\n",
       "------------------------------------\n",
       "                        statistic p-value\n",
       "Lag[1]                     0.3208  0.5711\n",
       "Lag[2*(p+q)+(p+q)-1][5]    2.6941  0.4657\n",
       "Lag[4*(p+q)+(p+q)-1][9]    3.7602  0.6297\n",
       "d.o.f=2\n",
       "\n",
       "Weighted ARCH LM Tests\n",
       "------------------------------------\n",
       "            Statistic Shape Scale P-Value\n",
       "ARCH Lag[3]    0.5302 0.500 2.000  0.4665\n",
       "ARCH Lag[5]    1.7791 1.440 1.667  0.5221\n",
       "ARCH Lag[7]    2.1468 2.315 1.543  0.6862\n",
       "\n",
       "Nyblom stability test\n",
       "------------------------------------\n",
       "Joint Statistic:  22.3153\n",
       "Individual Statistics:             \n",
       "mu     0.1180\n",
       "omega  3.2371\n",
       "alpha1 0.7717\n",
       "beta1  1.5321\n",
       "\n",
       "Asymptotic Critical Values (10% 5% 1%)\n",
       "Joint Statistic:     \t 1.07 1.24 1.6\n",
       "Individual Statistic:\t 0.35 0.47 0.75\n",
       "\n",
       "Sign Bias Test\n",
       "------------------------------------\n",
       "                   t-value    prob sig\n",
       "Sign Bias           1.8967 0.05796   *\n",
       "Negative Sign Bias  0.9705 0.33189    \n",
       "Positive Sign Bias  1.8057 0.07107   *\n",
       "Joint Effect       12.8512 0.00497 ***\n",
       "\n",
       "\n",
       "Adjusted Pearson Goodness-of-Fit Test:\n",
       "------------------------------------\n",
       "  group statistic p-value(g-1)\n",
       "1    20     113.0    2.203e-15\n",
       "2    30     143.3    4.455e-17\n",
       "3    40     156.0    6.421e-16\n",
       "4    50     182.5    2.862e-17\n",
       "\n",
       "\n",
       "Elapsed time : 0.2303839 \n"
      ]
     },
     "metadata": {},
     "output_type": "display_data"
    }
   ],
   "source": [
    "fit.garch.N <- ugarchfit(spec = garch.N,data = logret)\n",
    "fit.garch.N"
   ]
  },
  {
   "cell_type": "code",
   "execution_count": 116,
   "id": "620f6b40",
   "metadata": {},
   "outputs": [],
   "source": [
    "# save Fitted Values \n",
    "save1 <- cbind(logret,fit.garch.N@fit$sigma,fit.garch.N@fit$z)\n",
    "names(save1) <- c(\"logret\",\"s\",\"z\")\n",
    "# we are adding 3 columns logret +  fitted values of sqr root of fitted values of ht\n",
    "# + Fitted values of et"
   ]
  },
  {
   "cell_type": "code",
   "execution_count": 117,
   "id": "ad2c4761",
   "metadata": {},
   "outputs": [
    {
     "data": {
      "image/png": "[encoded data removed]",
      "text/plain": [
       "plot without title"
      ]
     },
     "metadata": {},
     "output_type": "display_data"
    }
   ],
   "source": [
    "plot(save1)"
   ]
  },
  {
   "cell_type": "code",
   "execution_count": 118,
   "id": "0fa88585",
   "metadata": {},
   "outputs": [
    {
     "data": {
      "text/plain": [
       "                  logret          s           z\n",
       "2008-03-31 -0.0156915339 0.01299576 -1.25509259\n",
       "2008-04-01  0.0266096155 0.01353492  1.92023831\n",
       "2008-04-02  0.0109955371 0.01590923  0.65221224\n",
       "2008-04-03  0.0056472959 0.01524992  0.32970348\n",
       "2008-04-04 -0.0005826832 0.01426373 -0.08427167\n",
       "2008-04-07  0.0058113363 0.01324058  0.39212706"
      ]
     },
     "metadata": {},
     "output_type": "display_data"
    }
   ],
   "source": [
    "head(save1)"
   ]
  },
  {
   "cell_type": "code",
   "execution_count": 119,
   "id": "b4a5cfda",
   "metadata": {},
   "outputs": [
    {
     "data": {
      "text/html": [
       "-0.04635584"
      ],
      "text/latex": [
       "-0.04635584"
      ],
      "text/markdown": [
       "-0.04635584"
      ],
      "text/plain": [
       "[1] -0.04635584"
      ]
     },
     "metadata": {},
     "output_type": "display_data"
    },
    {
     "data": {
      "text/html": [
       "0.99931863"
      ],
      "text/latex": [
       "0.99931863"
      ],
      "text/markdown": [
       "0.99931863"
      ],
      "text/plain": [
       "[1] 0.9993186"
      ]
     },
     "metadata": {},
     "output_type": "display_data"
    }
   ],
   "source": [
    "#Diagnostic test for the neww fitted et\n",
    "# Distribution of returns\n",
    "# ESTIMATE U -using sample mean  and sigma using std. deviation\n",
    "\n",
    "mu <- round(mean(save1$z),8)\n",
    "\n",
    "sig <- round(sd(save1$z),8)\n",
    "\n",
    "mu\n",
    "sig"
   ]
  },
  {
   "cell_type": "code",
   "execution_count": 120,
   "id": "bca9ea6b",
   "metadata": {},
   "outputs": [
    {
     "data": {
      "text/html": [
       "-0.56"
      ],
      "text/latex": [
       "-0.56"
      ],
      "text/markdown": [
       "-0.56"
      ],
      "text/plain": [
       "[1] -0.56"
      ]
     },
     "metadata": {},
     "output_type": "display_data"
    }
   ],
   "source": [
    "rvec <- as.vector(save1$z) # Converting into vector\n",
    "round(skewness(rvec),2) # So left-skewed"
   ]
  },
  {
   "cell_type": "code",
   "execution_count": 121,
   "id": "876ac171",
   "metadata": {},
   "outputs": [
    {
     "data": {
      "text/html": [
       "4.63"
      ],
      "text/latex": [
       "4.63"
      ],
      "text/markdown": [
       "4.63"
      ],
      "text/plain": [
       "[1] 4.63"
      ]
     },
     "metadata": {},
     "output_type": "display_data"
    }
   ],
   "source": [
    "# If a distribution has fatter tails = Leptokurtic\n",
    "# # If a distribution has Thinner tails = Platykurtic\n",
    "rvec <- as.vector(save1$z)\n",
    "round(kurtosis(rvec),2)"
   ]
  },
  {
   "cell_type": "code",
   "execution_count": 122,
   "id": "95e33c05",
   "metadata": {},
   "outputs": [
    {
     "data": {
      "text/plain": [
       "\n",
       "\tJarque-Bera Normality Test\n",
       "\n",
       "data:  rvec\n",
       "JB = 487.68, p-value < 2.2e-16\n",
       "alternative hypothesis: greater\n"
      ]
     },
     "metadata": {},
     "output_type": "display_data"
    }
   ],
   "source": [
    "# Jarque Bera test for normality\n",
    "\n",
    "rvec <- as.vector(save1$z)\n",
    "jarque.test(rvec)  # i.e reject normality"
   ]
  },
  {
   "cell_type": "code",
   "execution_count": 123,
   "id": "36fbac1c",
   "metadata": {},
   "outputs": [],
   "source": [
    "#Now the expected values should have the following statistical properties\n",
    "#Mean =0\n",
    "#STD = 1\n",
    "# Skewness=0\n",
    "#Kurtosis = 3 # As per the GARCH model specifications \n",
    "# While in the previous moels the diagnostic test elements where actuallly better"
   ]
  },
  {
   "cell_type": "code",
   "execution_count": 124,
   "id": "ed781de4",
   "metadata": {},
   "outputs": [
    {
     "data": {
      "image/png": "[encoded data removed]",
      "text/plain": [
       "Plot with title \"Series  save1$z\""
      ]
     },
     "metadata": {},
     "output_type": "display_data"
    }
   ],
   "source": [
    "acf(save1$z)"
   ]
  },
  {
   "cell_type": "code",
   "execution_count": 125,
   "id": "43eb0697",
   "metadata": {},
   "outputs": [
    {
     "data": {
      "image/png": "[encoded data removed]",
      "text/plain": [
       "Plot with title \"Series  abs(save1$z)\""
      ]
     },
     "metadata": {},
     "output_type": "display_data"
    }
   ],
   "source": [
    "acf(abs(save1$z))"
   ]
  },
  {
   "cell_type": "code",
   "execution_count": 126,
   "id": "dd372e0e",
   "metadata": {},
   "outputs": [],
   "source": [
    "#Till Now we have done with a GARCH(1,1) model a normal-distribution\n",
    "# Now with a GARCH(1,1) T-distribution\n",
    "\n",
    "# saving the model as garch.N"
   ]
  },
  {
   "cell_type": "code",
   "execution_count": 127,
   "id": "84fa511c",
   "metadata": {},
   "outputs": [
    {
     "data": {
      "text/plain": [
       "\n",
       "*---------------------------------*\n",
       "*          GARCH Model Fit        *\n",
       "*---------------------------------*\n",
       "\n",
       "Conditional Variance Dynamics \t\n",
       "-----------------------------------\n",
       "GARCH Model\t: sGARCH(1,1)\n",
       "Mean Model\t: ARFIMA(0,0,0)\n",
       "Distribution\t: std \n",
       "\n",
       "Optimal Parameters\n",
       "------------------------------------\n",
       "        Estimate  Std. Error  t value Pr(>|t|)\n",
       "mu      0.000785    0.000132  5.94632 0.000000\n",
       "omega   0.000001    0.000003  0.46352 0.642989\n",
       "alpha1  0.134715    0.059484  2.26473 0.023529\n",
       "beta1   0.864266    0.051813 16.68064 0.000000\n",
       "shape   5.860714    1.039819  5.63628 0.000000\n",
       "\n",
       "Robust Standard Errors:\n",
       "        Estimate  Std. Error  t value Pr(>|t|)\n",
       "mu      0.000785    0.000237 3.314688 0.000917\n",
       "omega   0.000001    0.000036 0.039901 0.968172\n",
       "alpha1  0.134715    0.667784 0.201734 0.840124\n",
       "beta1   0.864266    0.585121 1.477074 0.139656\n",
       "shape   5.860714    9.657419 0.606861 0.543943\n",
       "\n",
       "LogLikelihood : 9657.353 \n",
       "\n",
       "Information Criteria\n",
       "------------------------------------\n",
       "                    \n",
       "Akaike       -6.5043\n",
       "Bayes        -6.4942\n",
       "Shibata      -6.5043\n",
       "Hannan-Quinn -6.5006\n",
       "\n",
       "Weighted Ljung-Box Test on Standardized Residuals\n",
       "------------------------------------\n",
       "                        statistic p-value\n",
       "Lag[1]                      1.785  0.1815\n",
       "Lag[2*(p+q)+(p+q)-1][2]     1.802  0.2978\n",
       "Lag[4*(p+q)+(p+q)-1][5]     2.493  0.5074\n",
       "d.o.f=0\n",
       "H0 : No serial correlation\n",
       "\n",
       "Weighted Ljung-Box Test on Standardized Squared Residuals\n",
       "------------------------------------\n",
       "                        statistic p-value\n",
       "Lag[1]                    0.04395  0.8340\n",
       "Lag[2*(p+q)+(p+q)-1][5]   2.90055  0.4255\n",
       "Lag[4*(p+q)+(p+q)-1][9]   4.11111  0.5701\n",
       "d.o.f=2\n",
       "\n",
       "Weighted ARCH LM Tests\n",
       "------------------------------------\n",
       "            Statistic Shape Scale P-Value\n",
       "ARCH Lag[3]    0.3736 0.500 2.000  0.5411\n",
       "ARCH Lag[5]    1.9077 1.440 1.667  0.4920\n",
       "ARCH Lag[7]    2.3117 2.315 1.543  0.6515\n",
       "\n",
       "Nyblom stability test\n",
       "------------------------------------\n",
       "Joint Statistic:  57.3939\n",
       "Individual Statistics:               \n",
       "mu      0.03909\n",
       "omega  10.79060\n",
       "alpha1  1.00150\n",
       "beta1   1.61018\n",
       "shape   0.69754\n",
       "\n",
       "Asymptotic Critical Values (10% 5% 1%)\n",
       "Joint Statistic:     \t 1.28 1.47 1.88\n",
       "Individual Statistic:\t 0.35 0.47 0.75\n",
       "\n",
       "Sign Bias Test\n",
       "------------------------------------\n",
       "                   t-value    prob sig\n",
       "Sign Bias            1.932 0.05350   *\n",
       "Negative Sign Bias   1.028 0.30422    \n",
       "Positive Sign Bias   1.719 0.08580   *\n",
       "Joint Effect        12.501 0.00585 ***\n",
       "\n",
       "\n",
       "Adjusted Pearson Goodness-of-Fit Test:\n",
       "------------------------------------\n",
       "  group statistic p-value(g-1)\n",
       "1    20     56.08    1.584e-05\n",
       "2    30     69.66    3.373e-05\n",
       "3    40     79.90    1.232e-04\n",
       "4    50     88.97    4.165e-04\n",
       "\n",
       "\n",
       "Elapsed time : 0.277257 \n"
      ]
     },
     "metadata": {},
     "output_type": "display_data"
    }
   ],
   "source": [
    "#Till Now we have done with a GARCH(1,1) model a normal-distribution\n",
    "# Now with a GARCH(1,1) T-distribution\n",
    "garch.t <- ugarchspec(variance.model = list(model = \"sGARCH\",garchOrder = c(1,1)),\n",
    "                     mean.model = list(armaOrder = c(0,0),include.mean = TRUE),\n",
    "                     distribution.model = \"std\")\n",
    "\n",
    "fit.garch.t <- ugarchfit(spec = garch.t,data = logret)\n",
    "\n",
    "fit.garch.t\n",
    "\n",
    "# saving the model as garch.t"
   ]
  },
  {
   "cell_type": "code",
   "execution_count": 128,
   "id": "f46713c9",
   "metadata": {},
   "outputs": [],
   "source": [
    "# save Fitted Values\n",
    "save2 <- cbind(logret,fit.garch.t@fit$sigma,fit.garch.t@fit$z)\n",
    "names(save2) <- c(\"logret\",\"s\",\"z\")\n",
    "\n",
    "parm1 <- fit.garch.t@fit$coef"
   ]
  },
  {
   "cell_type": "code",
   "execution_count": 129,
   "id": "b46c9b75",
   "metadata": {},
   "outputs": [
    {
     "data": {
      "text/html": [
       "-0.06558704"
      ],
      "text/latex": [
       "-0.06558704"
      ],
      "text/markdown": [
       "-0.06558704"
      ],
      "text/plain": [
       "[1] -0.06558704"
      ]
     },
     "metadata": {},
     "output_type": "display_data"
    },
    {
     "data": {
      "text/html": [
       "0.99293383"
      ],
      "text/latex": [
       "0.99293383"
      ],
      "text/markdown": [
       "0.99293383"
      ],
      "text/plain": [
       "[1] 0.9929338"
      ]
     },
     "metadata": {},
     "output_type": "display_data"
    }
   ],
   "source": [
    "#Diagnostic test for the neww fitted et\n",
    "# Distribution of returns\n",
    "# ESTIMATE U -using sample mean  and sigma using std. deviation\n",
    "\n",
    "mu <- round(mean(save2$z),8)\n",
    "\n",
    "sig <- round(sd(save2$z),8)\n",
    "\n",
    "mu\n",
    "sig"
   ]
  },
  {
   "cell_type": "code",
   "execution_count": 130,
   "id": "965f72ee",
   "metadata": {},
   "outputs": [
    {
     "data": {
      "text/html": [
       "-0.58"
      ],
      "text/latex": [
       "-0.58"
      ],
      "text/markdown": [
       "-0.58"
      ],
      "text/plain": [
       "[1] -0.58"
      ]
     },
     "metadata": {},
     "output_type": "display_data"
    }
   ],
   "source": [
    "rvec <- as.vector(save2$z) # Converting into vector\n",
    "round(skewness(rvec),2) # So left-skewed"
   ]
  },
  {
   "cell_type": "code",
   "execution_count": 131,
   "id": "3ba087a7",
   "metadata": {},
   "outputs": [
    {
     "data": {
      "text/html": [
       "4.68"
      ],
      "text/latex": [
       "4.68"
      ],
      "text/markdown": [
       "4.68"
      ],
      "text/plain": [
       "[1] 4.68"
      ]
     },
     "metadata": {},
     "output_type": "display_data"
    }
   ],
   "source": [
    "# If a distribution has fatter tails = Leptokurtic\n",
    "# # If a distribution has Thinner tails = Platykurtic\n",
    "rvec <- as.vector(save2$z)\n",
    "round(kurtosis(rvec),2) #Heavy Tailed as it is > than 3 | Normal if = 3 |  < 3 - for thin tailed test"
   ]
  },
  {
   "cell_type": "code",
   "execution_count": 132,
   "id": "e1d5c21d",
   "metadata": {},
   "outputs": [
    {
     "data": {
      "text/plain": [
       "\n",
       "\tJarque-Bera Normality Test\n",
       "\n",
       "data:  rvec\n",
       "JB = 515.15, p-value < 2.2e-16\n",
       "alternative hypothesis: greater\n"
      ]
     },
     "metadata": {},
     "output_type": "display_data"
    }
   ],
   "source": [
    "# Jarque Bera test for normality\n",
    "\n",
    "rvec <- as.vector(save2$z)\n",
    "jarque.test(rvec)  # i.e reject normality"
   ]
  },
  {
   "cell_type": "code",
   "execution_count": 133,
   "id": "cf1bc5c8",
   "metadata": {},
   "outputs": [],
   "source": [
    "#Now the expected values should have the following statistical properties\n",
    "#Mean =0\n",
    "#STD = 1\n",
    "# Skewness=0\n",
    "#Kurtosis = 3+6/v-4 # As per the GARCH model specifications \n",
    "# While in the previous moels the diagnostic test elements where actuallly better"
   ]
  },
  {
   "cell_type": "code",
   "execution_count": 134,
   "id": "67d11bc0",
   "metadata": {},
   "outputs": [
    {
     "data": {
      "image/png": "[encoded data removed]",
      "text/plain": [
       "Plot with title \"Series  save2$z\""
      ]
     },
     "metadata": {},
     "output_type": "display_data"
    }
   ],
   "source": [
    "acf(save2$z)"
   ]
  },
  {
   "cell_type": "code",
   "execution_count": 135,
   "id": "42e9c885",
   "metadata": {},
   "outputs": [
    {
     "data": {
      "image/png": "[encoded data removed]",
      "text/plain": [
       "Plot with title \"Series  abs(save2$z)\""
      ]
     },
     "metadata": {},
     "output_type": "display_data"
    }
   ],
   "source": [
    "acf(abs(save2$z))"
   ]
  },
  {
   "cell_type": "code",
   "execution_count": 136,
   "id": "9f32d6a6",
   "metadata": {},
   "outputs": [
    {
     "data": {
      "image/png": "[encoded data removed]",
      "text/plain": [
       "plot without title"
      ]
     },
     "metadata": {},
     "output_type": "display_data"
    }
   ],
   "source": [
    "plot(save1$s)"
   ]
  },
  {
   "cell_type": "code",
   "execution_count": 137,
   "id": "0da937cd",
   "metadata": {},
   "outputs": [
    {
     "data": {
      "image/png": "[encoded data removed]",
      "text/plain": [
       "plot without title"
      ]
     },
     "metadata": {},
     "output_type": "display_data"
    }
   ],
   "source": [
    "plot(save2$s)"
   ]
  },
  {
   "cell_type": "code",
   "execution_count": 138,
   "id": "1394a67d",
   "metadata": {},
   "outputs": [],
   "source": [
    "#Graph of fiited sqr. root of ht in both cases - it denotes the volatility clustering in the Bitcoin Prices\n",
    "# As the volatility is high VAR & ES are going to be High\n",
    "# As the volatility is low VAR & ES are going to be Low\n",
    "# So above VAR and ES are going to be high at aril 1,2020"
   ]
  },
  {
   "cell_type": "code",
   "execution_count": 139,
   "id": "6ed4a0ac",
   "metadata": {},
   "outputs": [],
   "source": [
    "#Now that we have estimated the GARCH model now we can now estimate it to Find VAR & ES using UGARCH boot function\n",
    "# Simulate 1-day ahead with ugarchboot() fxn\n",
    "\n",
    "#Simulate outcomes by bootstrapping from fited et of fit.garch.t\n",
    "set.seed(123789)\n",
    "boot.garch <- ugarchboot(fit.garch.t,\n",
    "                        method=\"Partial\",\n",
    "                        sampling=\"raw\",   #bootstrap fro fitted e\n",
    "                        n.ahead=1,           #simulation horizon # How many periods to simulate - Me the next day\n",
    "                        n.bootpred=100000,     #number of simulations\n",
    "                        solver=\"solnp\") #Save it at boot.garch"
   ]
  },
  {
   "cell_type": "code",
   "execution_count": 140,
   "id": "d3db4f15",
   "metadata": {},
   "outputs": [
    {
     "data": {
      "text/html": [
       "<strong>5%:</strong> -0.00958821644550099"
      ],
      "text/latex": [
       "\\textbf{5\\textbackslash{}\\%:} -0.00958821644550099"
      ],
      "text/markdown": [
       "**5%:** -0.00958821644550099"
      ],
      "text/plain": [
       "          5% \n",
       "-0.009588216 "
      ]
     },
     "metadata": {},
     "output_type": "display_data"
    },
    {
     "data": {
      "text/html": [
       "-0.0137391149686188"
      ],
      "text/latex": [
       "-0.0137391149686188"
      ],
      "text/markdown": [
       "-0.0137391149686188"
      ],
      "text/plain": [
       "[1] -0.01373911"
      ]
     },
     "metadata": {},
     "output_type": "display_data"
    }
   ],
   "source": [
    "#Calculate the VAR and ES from the simulated outcomes\n",
    "\n",
    "\n",
    "rvec <- boot.garch@fseries\n",
    "alpha <- 0.05\n",
    "VAR <- quantile(rvec,alpha)\n",
    "ES <- mean(rvec[rvec<VAR])\n",
    "\n",
    "VAR \n",
    "ES            # Prediction for 9-03-2021"
   ]
  },
  {
   "cell_type": "code",
   "execution_count": 141,
   "id": "2b50b812",
   "metadata": {},
   "outputs": [],
   "source": [
    "#Now that we have estimated the GARCH model now we can now estimate it to Find VAR & ES using UGARCH boot function\n",
    "# Simulate 1-day ahead with ugarchboot() fxn\n",
    "\n",
    "#Simulate outcomes by bootstrapping from fited et of fit.garch.t\n",
    "set.seed(123789)\n",
    "boot.garch1 <- ugarchboot(fit.garch.N,\n",
    "                        method=\"Partial\",\n",
    "                        sampling=\"raw\",   #bootstrap fro fitted e\n",
    "                        n.ahead=1,           #simulation horizon # How many periods to simulate - Me the next day\n",
    "                        n.bootpred=100000,     #number of simulations\n",
    "                        solver=\"solnp\") #Save it at boot.garch"
   ]
  },
  {
   "cell_type": "code",
   "execution_count": 142,
   "id": "2d2476bf",
   "metadata": {},
   "outputs": [
    {
     "data": {
      "text/html": [
       "<strong>5%:</strong> -0.00991771606833401"
      ],
      "text/latex": [
       "\\textbf{5\\textbackslash{}\\%:} -0.00991771606833401"
      ],
      "text/markdown": [
       "**5%:** -0.00991771606833401"
      ],
      "text/plain": [
       "          5% \n",
       "-0.009917716 "
      ]
     },
     "metadata": {},
     "output_type": "display_data"
    },
    {
     "data": {
      "text/html": [
       "-0.0142054866265088"
      ],
      "text/latex": [
       "-0.0142054866265088"
      ],
      "text/markdown": [
       "-0.0142054866265088"
      ],
      "text/plain": [
       "[1] -0.01420549"
      ]
     },
     "metadata": {},
     "output_type": "display_data"
    }
   ],
   "source": [
    "#Calculate the VAR and ES from the simulated outcomes\n",
    "\n",
    "\n",
    "rvec <- boot.garch1@fseries\n",
    "alpha <- 0.05\n",
    "VAR <- quantile(rvec,alpha)\n",
    "ES <- mean(rvec[rvec<VAR])\n",
    "\n",
    "VAR \n",
    "ES  "
   ]
  },
  {
   "cell_type": "code",
   "execution_count": null,
   "id": "90004db1",
   "metadata": {},
   "outputs": [],
   "source": []
  },
  {
   "cell_type": "code",
   "execution_count": null,
   "id": "4b759486",
   "metadata": {},
   "outputs": [],
   "source": []
  },
  {
   "cell_type": "code",
   "execution_count": null,
   "id": "d3cf44b2",
   "metadata": {},
   "outputs": [],
   "source": []
  },
  {
   "cell_type": "code",
   "execution_count": null,
   "id": "c5ad58a3",
   "metadata": {},
   "outputs": [],
   "source": []
  },
  {
   "cell_type": "code",
   "execution_count": null,
   "id": "d8d5424b",
   "metadata": {},
   "outputs": [],
   "source": []
  },
  {
   "cell_type": "code",
   "execution_count": null,
   "id": "6780c140",
   "metadata": {},
   "outputs": [],
   "source": []
  },
  {
   "cell_type": "code",
   "execution_count": null,
   "id": "6da231fc",
   "metadata": {},
   "outputs": [],
   "source": []
  }
 ],
 "metadata": {
  "kernelspec": {
   "display_name": "R",
   "language": "R",
   "name": "ir"
  },
  "language_info": {
   "codemirror_mode": "r",
   "file_extension": ".r",
   "mimetype": "text/x-r-source",
   "name": "R",
   "pygments_lexer": "r",
   "version": "3.6.1"
  }
 },
 "nbformat": 4,
 "nbformat_minor": 5
}
